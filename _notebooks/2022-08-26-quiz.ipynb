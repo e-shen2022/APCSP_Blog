{
 "cells": [
  {
   "cell_type": "markdown",
   "metadata": {},
   "source": [
    "# Python Quiz\n"
   ]
  },
  {
   "cell_type": "code",
   "execution_count": 2,
   "metadata": {},
   "outputs": [
    {
     "name": "stdout",
     "output_type": "stream",
     "text": [
      "Hello, aimas running c:\\Users\\aimas\\AppData\\Local\\Programs\\Python\\Python310\\python.exe\n",
      "You will be asked 3 questions.\n",
      "Question: What command is used to include other functions that were previously developed?\n"
     ]
    }
   ],
   "source": [
    "import getpass, sys \n",
    "\n",
    "def question_and_answer(prompt): #defines question_and_answer\n",
    "    print(\"Question: \" + prompt) #asks user a question\n",
    "    msg = input() #takes user's input\n",
    "    print(\"Answer: \" + msg) # prints user's input as answer\n",
    "\n",
    "\n",
    "def question_with_response(prompt):\n",
    "    print(\"Question: \" + prompt)\n",
    "    msg = input()\n",
    "    return msg #returns as string value\n",
    "  \n",
    "questions = 6 #number of quiz questions\n",
    "correct = 0 #initialize number of correct answers to 0 \n",
    "\n",
    "print('Hello, ' + getpass.getuser() + \" running \" + sys.executable)\n",
    "print(\"You will be asked \" + str(questions) + \" questions.\")\n",
    "question_and_answer(\"Are you ready to take a test?\")\n",
    "\n",
    "rsp = question_with_response(\"What command is used to include other functions that were previously developed?\")\n",
    "if rsp == \"import\": #compares user's response to answer, if \"import\" than correct, if other than not correct\n",
    "    print(rsp + \" is correct!\")\n",
    "    correct += 1\n",
    "else:\n",
    "    print(rsp + \" is incorrect!\")\n",
    "\n",
    "rsp = question_with_response(\"What command is used to evaluate correct or incorrect response in this example?\")\n",
    "if rsp == \"if\":\n",
    "    print(rsp + \" is correct!\")\n",
    "    correct += 1\n",
    "else:\n",
    "    print(rsp + \" is incorrect!\")\n",
    "\n",
    "rsp = question_with_response(\"Each 'if' command contains an '_________' to determine a true or false condition?\")\n",
    "if rsp == \"expression\":\n",
    "    print(rsp + \" is correct!\")\n",
    "    correct += 1\n",
    "else:\n",
    "    print(rsp + \" is incorrect!\")\n",
    "\n",
    "rsp = question_with_response(\"What is the word for several lines of code together?\")\n",
    "if rsp == \"sequence\":\n",
    "    print(rsp + \" is correct!\")\n",
    "    correct += 1\n",
    "else:\n",
    "    print(rsp + \" is incorrect!\")\n",
    "\n",
    "rsp = question_with_response(\"What does ls stand for?\")\n",
    "if rsp == \"list\":\n",
    "    print(rsp + \" is correct!\")\n",
    "    correct += 1\n",
    "else:\n",
    "    print(rsp + \" is incorrect!\")\n",
    " \n",
    "rsp = question_with_response(\"What button do you have to click to sync changes with vscode and your fastpages?\")\n",
    "if rsp == \"committ\":\n",
    "    print(rsp + \" is correct!\")\n",
    "    correct += 1\n",
    "else:\n",
    "    print(rsp + \" is incorrect!\")\n",
    "\n",
    "\n",
    "print(getpass.getuser() + \" you scored \" + str(correct) +\"/\" + str(questions))"
   ]
  },
  {
   "cell_type": "markdown",
   "metadata": {},
   "source": []
  }
 ],
 "metadata": {
  "kernelspec": {
   "display_name": "Python 3.10.5 64-bit",
   "language": "python",
   "name": "python3"
  },
  "language_info": {
   "codemirror_mode": {
    "name": "ipython",
    "version": 3
   },
   "file_extension": ".py",
   "mimetype": "text/x-python",
   "name": "python",
   "nbconvert_exporter": "python",
   "pygments_lexer": "ipython3",
   "version": "3.10.5"
  },
  "orig_nbformat": 4,
  "vscode": {
   "interpreter": {
    "hash": "1405e0d9cc1c9c4024744497d3ba461e72a505cedc3230f3ba492bfea7d81d2b"
   }
  }
 },
 "nbformat": 4,
 "nbformat_minor": 2
}
