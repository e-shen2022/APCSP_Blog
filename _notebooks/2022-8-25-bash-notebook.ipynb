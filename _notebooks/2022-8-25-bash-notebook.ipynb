{
 "cells": [
  {
   "cell_type": "markdown",
   "metadata": {},
   "source": [
    "**My APCSP Progress** \n",
    "<p>This shows that I have all the key tools installed. This is also a Blog for my own personal memory.</p>"
   ]
  }
 ],
 "metadata": {
  "language_info": {
   "name": "python"
  },
  "orig_nbformat": 4
 },
 "nbformat": 4,
 "nbformat_minor": 2
}
