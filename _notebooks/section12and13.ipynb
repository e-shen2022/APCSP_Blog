{
 "cells": [
  {
   "attachments": {},
   "cell_type": "markdown",
   "metadata": {},
   "source": [
    "# Unit 3 Sections 12-13 Hacks\n",
    "> Hacks\n",
    "\n",
    "- toc: true\n",
    "- badges: true\n",
    "- comments: true\n",
    "- categories: [csp]"
   ]
  },
  {
   "attachments": {},
   "cell_type": "markdown",
   "metadata": {},
   "source": [
    "<strong>3.12 Homework Part 1</strong>\n",
    "\n",
    "(1) This problem involves parameters\n",
    "Qais is writing code to calculate formulas from his math class. He's currently working on a procedure to calculate average speed, based on this formula:\n",
    "\n",
    "Average speed=\n",
    "\n",
    "Total Time/Total Distance​\n",
    "\n",
    "Highlight which of these is the best procedure for calculating and displaying average speed.\n",
    "\n",
    "<mark>PROCEDURE calcAvgSpeed (distance, time) { DISPLAY (distance/time) }</mark>\n",
    "\n",
    "PROCEDURE calcAvgSpeed (distance) { DISPLAY (distance/time) }\n",
    "\n",
    "PROCEDURE calcAvgSpeed (distance, time) { DISPLAY (time/distance) }\n",
    "\n",
    "\n",
    "(2) Procedures with return values \n",
    "\n",
    "James Hunter is looking through his classmate's program and sees a procedure called heightenEmotions: PROCEDURE heightenEmotions(myEmotion)\n",
    "\n",
    "{ moreEnergy ← CONCAT(myEmotion, \"!!!\")\n",
    "\n",
    "moreVolume ← UPPER(moreEnergy)\n",
    "\n",
    "RETURN moreVolume }\n",
    "\n",
    "That procedure manipulates strings using two built-in procedures, CONCAT for concatenating two strings together, and UPPER for converting a string to uppercase.\n",
    "\n",
    "James Hunter then sees this line of code:\n",
    "\n",
    "heightenEmotions(\"im mad\")\n",
    "\n",
    "After that line of code runs, will nothing be displayed?\n",
    "\n",
    "<mark>True</mark>\n",
    "\n",
    "False\n",
    "\n",
    "(3) Procedures with return values\n",
    "Bubz is writing a program to calculate the carbon footprint of his activities. The procedure calcFlightFootprint calculates the pounds of carbon dioxide produced per passenger in a flight that covers a given number of miles and seats a given number of passengers.\n",
    "\n",
    "PROCEDURE calcFlightFootprint(numMiles, numPassengers) { CO2_PER_MILE ← 53.29\n",
    "\n",
    "carbonPerFlight ← numMiles * CO2_PER_MILE\n",
    "\n",
    "carbonPerPassenger ← carbonPerFlight / numPassengers\n",
    "\n",
    "RETURN carbonPerPassenger\n",
    "\n",
    "}\n",
    "\n",
    "Bubz wants to use that procedure to calculate the total footprint for his two upcoming flights: LA to NY: 2,451 miles and 118 passengers NY to London: 3,442 miles and 252 passengers\n",
    "\n",
    "Which of these code snippets successfully calculates and stores her total footprint? Highlight 2 answers.\n",
    "\n",
    "<mark>totalFootprint ← calcFlightFootprint(2451, 118) + calcFlightFootprint(3442, 252)</mark>\n",
    "\n",
    "totalFootprint ← calcFlightFootprint(2451, 118 + 3442, 252)\n",
    "\n",
    "<mark>totalFootprint ← calcFlightFootprint((2451, 118) + (3442, 252))</mark>\n",
    "\n",
    "laNyCarbon ← calcFlightFootprint(2451, 118) nyLondonCarbon ← calcFlightFootprint(3442, 252) totalFootprint ← laNyCarbon + nyLondonCarbon"
   ]
  },
  {
   "attachments": {},
   "cell_type": "markdown",
   "metadata": {},
   "source": [
    "<strong>3.12 Homework Part 2</strong>\n",
    "\n",
    "(1) \n",
    "\n",
    "PROCEDURE find a ()\n",
    "\n",
    "{ c -- 9\n",
    "\n",
    "b <-- 9 * 9    \n",
    "\n",
    "a <-- b * c     \n",
    "\n",
    "Print (a)\n",
    "\n",
    "}\n",
    "\n",
    "What is a?\n",
    "\n",
    "c = 9\n",
    "\n",
    "b = 9 * 9 = 81\n",
    "\n",
    "<mark>a = b c = 81 9 = 729</mark>\n",
    "\n",
    "(2) \n",
    "\n",
    "cost ⟵ 173 tax - 10%\n",
    "\n",
    "PROCEDURE applytax (cost, cpercentDiscounted) { temp <-- 100 + percentTaxed\n",
    "\n",
    "temp <-- temp / 100\n",
    "\n",
    "cost <-- cost x temp       \n",
    "\n",
    "Print(cost)} \n",
    "\n",
    "What is the cost?\n",
    "\n",
    "temp = 110 \n",
    "\n",
    "110/100 = 1.1\n",
    "\n",
    "173 * 1.1 = <mark>$190.30</mark>\n",
    "\n",
    "(3)\n",
    "\n",
    "Tempature - 103 Degrees\n",
    "\n",
    "PROCEDURE convet Fahrenheit (tempature)\n",
    "\n",
    "{\n",
    "\n",
    "Celsius <-- tempature - 32  \n",
    "\n",
    "Celsius <-- Celsius x 5/9      \n",
    "\n",
    "Print (Celsius)}\n",
    "\n",
    "103 - 32 = 71\n",
    "\n",
    "<mark>71 x (5/9) = 39.44 degrees Celsius</mark>"
   ]
  },
  {
   "attachments": {},
   "cell_type": "markdown",
   "metadata": {},
   "source": [
    "<strong>3.13 Hacks</strong>\n",
    "\n",
    "#1. Create a procedure that is meant to replace the top running backs yards per game in one season if the current running back has more yards per game\n",
    "\n",
    "Necessary Parameters: toprbyardspg(100), currentrbyards(1260), totalGames(12)"
   ]
  },
  {
   "cell_type": "code",
   "execution_count": null,
   "metadata": {},
   "outputs": [],
   "source": [
    "if currentrbyards(1260) > toprbyardspg(100)\n",
    "    replace(toprbyardspg(100), currentrbyards(1260), totalGames(12))"
   ]
  },
  {
   "attachments": {},
   "cell_type": "markdown",
   "metadata": {},
   "source": [
    "#2 Write a procedure that will allow the A+ to get to the 1, while avoiding the black boxes."
   ]
  },
  {
   "cell_type": "code",
   "execution_count": null,
   "metadata": {},
   "outputs": [],
   "source": [
    "PROCEDURE getAplus(){\n",
    "If (can_MoveForward):\n",
    "Move_Forward\n",
    "Else (can_MoveRight):\n",
    "Rotate_Right\n",
    "Move_Forward\n",
    "If (can_MoveLeft);\n",
    "Rotate_Left\n",
    "Move_forward\n",
    "}"
   ]
  },
  {
   "attachments": {},
   "cell_type": "markdown",
   "metadata": {},
   "source": [
    "#3 Which Is the Correct Way to define the Name of a Procedure?\n",
    "\n",
    "B. PROCEDURE MyList (because procedure should be in all caps and part of the procedure name should be capitalized)"
   ]
  },
  {
   "attachments": {},
   "cell_type": "markdown",
   "metadata": {},
   "source": [
    "#4 Write A Procedure That gets the BeachBall To the Green Square\n",
    "\n"
   ]
  },
  {
   "cell_type": "code",
   "execution_count": null,
   "metadata": {},
   "outputs": [],
   "source": [
    "PROCEDURE BallToGreen{\n",
    "Rotate_Left\n",
    "Move_Forward\n",
    "Rotate_Right \n",
    "Move_Forward( until count = 6)\n",
    "break\n",
    "Rotate_Left\n",
    "Move_Forward (until count=2) \n",
    "break\n",
    "}"
   ]
  },
  {
   "attachments": {},
   "cell_type": "markdown",
   "metadata": {},
   "source": [
    "<strong>Summary</strong>\n",
    "\n",
    "- Procedure:a named group of programming instructions that may have parameters and return values\n",
    "- Parameters: input values of a procedure. \n",
    "- Arguments: specify the values of the parameters when a procedure is called.\n",
    "- Modularity: the practice of breaking a complex program into smaller, independent parts or modules that can be used and reused in different parts of the program\n",
    "- How to code Procedure: While Coding a procedure you must makes sure it has as name and a clear purpose weather to executre a response or complete an action. One common type of abstraction is procedrual abstraction, which provides a name for a process and allows a procedure to be only knowing what it doe,not how it does it.\n"
   ]
  }
 ],
 "metadata": {
  "kernelspec": {
   "display_name": "base",
   "language": "python",
   "name": "python3"
  },
  "language_info": {
   "name": "python",
   "version": "3.9.12 (main, Apr  5 2022, 06:56:58) \n[GCC 7.5.0]"
  },
  "orig_nbformat": 4,
  "vscode": {
   "interpreter": {
    "hash": "adc4c76832433b5703473fd5a379ae75624d2e9db498a5bfaf0ea532f238cb81"
   }
  }
 },
 "nbformat": 4,
 "nbformat_minor": 2
}
