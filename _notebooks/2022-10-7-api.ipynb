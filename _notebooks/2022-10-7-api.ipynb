{
 "cells": [
  {
   "cell_type": "markdown",
   "metadata": {},
   "source": [
    "# Application Programming Interface (API)\n",
    "> APIs can be found all over the internet.  A great consolidator of many APIs is <mark>RapidAPI</mark>.  In this blog we will use a site to consolidates API stats.  Learning a few lines of code and you can start extracting lots of data from the internet via APIs.  \n",
    "- title: Python RapidAPI\n",
    "- toc: true\n",
    "- permalink: /techtalk/rapidapi\n",
    "- categories: [juypter, week 7]\n",
    "- tags: [api, rapidapi]\n",
    "- type: pbl\n",
    "\n",
    "{% include nav_frontend.html %}"
   ]
  },
  {
   "cell_type": "markdown",
   "metadata": {},
   "source": [
    "### Python, RapidAPI Terms\n",
    "> APIs and tooling like Jupyter docs allows many opportunities in fields like Data Science.  As more and more developers use APIs, they build standards in how you setup a client, send requests and receive information..."
   ]
  },
  {
   "cell_type": "code",
   "execution_count": 16,
   "metadata": {},
   "outputs": [
    {
     "name": "stdout",
     "output_type": "stream",
     "text": [
      "Cars\n",
      "id: 9582\n",
      "    year: 2008\n",
      "    make: Buick\n",
      "    model: Enclave\n",
      "    type: SUV\n",
      "id: 9583\n",
      "    year: 2006\n",
      "    make: MINI\n",
      "    model: Convertible\n",
      "    type: Convertible\n",
      "id: 9584\n",
      "    year: 2019\n",
      "    make: Volvo\n",
      "    model: XC90\n",
      "    type: SUV\n",
      "id: 9585\n",
      "    year: 1999\n",
      "    make: Ford\n",
      "    model: Taurus\n",
      "    type: Sedan, Wagon\n",
      "id: 9586\n",
      "    year: 2020\n",
      "    make: Volvo\n",
      "    model: XC60\n",
      "    type: SUV\n",
      "id: 9587\n",
      "    year: 2006\n",
      "    make: HUMMER\n",
      "    model: H2\n",
      "    type: SUV, Pickup\n",
      "id: 9588\n",
      "    year: 2016\n",
      "    make: GMC\n",
      "    model: Sierra 1500 Crew Cab\n",
      "    type: Pickup\n",
      "id: 9589\n",
      "    year: 2008\n",
      "    make: GMC\n",
      "    model: Canyon Crew Cab\n",
      "    type: Pickup\n",
      "id: 9590\n",
      "    year: 2016\n",
      "    make: Subaru\n",
      "    model: Outback\n",
      "    type: SUV\n",
      "id: 9591\n",
      "    year: 2010\n",
      "    make: Mitsubishi\n",
      "    model: Outlander\n",
      "    type: SUV\n"
     ]
    }
   ],
   "source": [
    "import requests\n",
    "\n",
    "url = \"https://car-data.p.rapidapi.com/cars\"\n",
    "\n",
    "querystring = {\"limit\":\"10\",\"page\":\"0\"}\n",
    "\n",
    "headers = {\n",
    "\t\"X-RapidAPI-Key\": \"d2f7c75442mshde016465b174ed9p10a7b5jsn1acedf7fc107\",\n",
    "\t\"X-RapidAPI-Host\": \"car-data.p.rapidapi.com\"\n",
    "}\n",
    "\n",
    "response = requests.request(\"GET\", url, headers=headers, params=querystring)\n",
    "print(\"Cars\")\n",
    "cars = response.json()\n",
    "\n",
    "for x in cars:\n",
    "    for key, value in x.items():\n",
    "        if (key == \"id\"):\n",
    "            print(\"id:\", value)\n",
    "        if (key == \"year\"):\n",
    "            print(\"    year:\", value)\n",
    "        if (key == \"make\"):\n",
    "            print(\"    make:\", value)\n",
    "        if (key == \"model\"):\n",
    "            print(\"    model:\", value)\n",
    "        if (key == \"type\"):\n",
    "            print(\"    type:\", value)\n"
   ]
  }
 ],
 "metadata": {
  "kernelspec": {
   "display_name": "Python 3.8.10 64-bit",
   "language": "python",
   "name": "python3"
  },
  "language_info": {
   "codemirror_mode": {
    "name": "ipython",
    "version": 3
   },
   "file_extension": ".py",
   "mimetype": "text/x-python",
   "name": "python",
   "nbconvert_exporter": "python",
   "pygments_lexer": "ipython3",
   "version": "3.8.10"
  },
  "orig_nbformat": 4,
  "vscode": {
   "interpreter": {
    "hash": "916dbcbb3f70747c44a77c7bcd40155683ae19c65e1c03b4aa3499c5328201f1"
   }
  }
 },
 "nbformat": 4,
 "nbformat_minor": 2
}
