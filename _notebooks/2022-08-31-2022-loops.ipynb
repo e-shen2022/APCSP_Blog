{
 "cells": [
  {
   "cell_type": "markdown",
   "metadata": {},
   "source": [
    "# Caesar Cipher (For loops and index)\n",
    "A Caesar cipher is a simple method of encoding messages. Caesar ciphers use a substitution method where letters in the alphabet are shifted by some fixed number of spaces to yield an encoding alphabet. A Caesar cipher with a shift of 1 would encode an A as a B, an M as an N, and a Z as an A, and so on. The method is named after Roman leader Julius Caesar, who used it in his private correspondence!\n",
    "\n"
   ]
  },
  {
   "cell_type": "code",
   "execution_count": 1,
   "metadata": {},
   "outputs": [
    {
     "name": "stdout",
     "output_type": "stream",
     "text": [
      "The encoded text is fnnb\n"
     ]
    }
   ],
   "source": [
    "#caesar cipher \n",
    "alphabet = ['a','b', 'c', 'd', 'e', 'f', 'g','h', 'i', 'j', 'k', 'l', 'm', 'n', 'o', 'p', 'q', 'r', 's', 't', 'u', 'v', 'w', 'x', 'y', 'z']\n",
    "\n",
    "text = input(\"Type your message: \\n\").lower() #asks for user's message\n",
    "shift = int(input(\"Type the shift number:\\n\")) #asks for shift number \n",
    "\n",
    "def encrypt(text, shift): #define function\n",
    "    cipher_text = \"\" #set cipher_text to empty \n",
    "    for letter in text: #looping through each letter in the user's message \n",
    "        position = alphabet.index(letter) #set letter's alphabet index to variable position \n",
    "        new_position = position + shift #set the letter's new position with shift number \n",
    "        new_letter = alphabet[new_position] #new letter with new position \n",
    "        cipher_text += new_letter #add letters one by one to empty cipher_text\n",
    "    print(f\"The encoded text is {cipher_text}\") #print the encoded text \n",
    "\n",
    "encrypt(text, shift)"
   ]
  }
 ],
 "metadata": {
  "kernelspec": {
   "display_name": "Python 3.10.5 64-bit",
   "language": "python",
   "name": "python3"
  },
  "language_info": {
   "codemirror_mode": {
    "name": "ipython",
    "version": 3
   },
   "file_extension": ".py",
   "mimetype": "text/x-python",
   "name": "python",
   "nbconvert_exporter": "python",
   "pygments_lexer": "ipython3",
   "version": "3.10.5"
  },
  "orig_nbformat": 4,
  "vscode": {
   "interpreter": {
    "hash": "1405e0d9cc1c9c4024744497d3ba461e72a505cedc3230f3ba492bfea7d81d2b"
   }
  }
 },
 "nbformat": 4,
 "nbformat_minor": 2
}
