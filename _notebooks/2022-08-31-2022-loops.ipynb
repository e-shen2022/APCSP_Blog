{
 "cells": [
  {
   "cell_type": "markdown",
   "metadata": {},
   "source": [
    "# Lists, Dictionaries, Loops\n",
    "- toc: true \n",
    "- badges: true\n",
    "- comments: true\n",
    "- categories: [jupyter, week2]\n",
    "\n"
   ]
  },
  {
   "cell_type": "markdown",
   "metadata": {},
   "source": [
    "A Caesar cipher is a simple method of encoding messages. Caesar ciphers use a substitution method where letters in the alphabet are shifted by some fixed number of spaces to yield an encoding alphabet. A Caesar cipher with a shift of 1 would encode an A as a B, an M as an N, and a Z as an A, and so on. The method is named after Roman leader Julius Caesar, who used it in his private correspondence!"
   ]
  },
  {
   "cell_type": "code",
   "execution_count": 31,
   "metadata": {},
   "outputs": [
    {
     "name": "stdout",
     "output_type": "stream",
     "text": [
      "Your message is: hello\n",
      "Your shift number is: 3\n",
      "Your encoded text is: khoor\n"
     ]
    }
   ],
   "source": [
    "#Caesar Cipher \n",
    "alphabet = ['a','b', 'c', 'd', 'e', 'f', 'g','h', 'i', 'j', 'k', 'l', 'm', 'n', 'o', 'p', 'q', 'r', 's', 't', 'u', 'v', 'w', 'x', 'y', 'z']\n",
    "\n",
    "text = input(\"Type your message: \\n\").lower() #asks for user's message\n",
    "print(\"Your message is: \" + text)\n",
    "shift = int(input(\"Type the shift number:\\n\")) #asks for shift number\n",
    "print(f\"Your shift number is: {shift}\") \n",
    "\n",
    "def encrypt(text, shift): #define function\n",
    "    cipher_text = \"\" #set cipher_text to empty \n",
    "    for letter in text: #looping through each letter in the user's message \n",
    "        position = alphabet.index(letter) #set letter's alphabet index to variable position \n",
    "        new_position = position + shift #set the letter's new position with shift number \n",
    "        new_letter = alphabet[new_position] #new letter with new position \n",
    "        cipher_text += new_letter #add letters one by one to empty cipher_text\n",
    "    print(f\"Your encoded text is: {cipher_text}\") #print the encoded text \n",
    "\n",
    "encrypt(text, shift)"
   ]
  },
  {
   "cell_type": "markdown",
   "metadata": {},
   "source": [
    "**Types of Variables: String, Integer, Float, List, and Dictionary** \n",
    "In Python, variables are given a type at assignment, Types are important to understand and will impact operations, as we saw when we were required to user str() function in concatenation.\n",
    "\n",
    "Developers often think of variables as primitives or collections. Look at this example and see if you can see hypothesize the difference between a primitive and a collection. Take a minute and see if you can reference other elements in the list or other keys in the dictionary. Show output."
   ]
  },
  {
   "cell_type": "code",
   "execution_count": 32,
   "metadata": {},
   "outputs": [
    {
     "name": "stdout",
     "output_type": "stream",
     "text": [
      "name Emma Shen <class 'str'>\n",
      "age 16 <class 'int'>\n",
      "score 100.0 <class 'float'>\n",
      "\n",
      "langs ['Python', 'Html', 'CSS', 'C', 'Java'] <class 'list'>\n",
      "- langs[3] C <class 'str'>\n",
      "\n",
      "person {'name': 'Emma Shen', 'age': 16, 'score': 100.0, 'langs': ['Python', 'Html', 'CSS', 'C', 'Java']} <class 'dict'>\n",
      "- person[\"name\"] Emma Shen <class 'str'>\n",
      "\n",
      "Reversed List: ['Grape', 'Blueberry', 'Pear', 'Banana', 'Orange', 'Apple']\n",
      "\n",
      "Are you bored? Would you like us to give you a random, fun activity to do right now?\n",
      "An activity you could do is sleeping!\n"
     ]
    }
   ],
   "source": [
    "# Sample of Python Variables\n",
    "\n",
    "# variable of type string\n",
    "name = \"Emma Shen\"\n",
    "print(\"name\", name, type(name))\n",
    "\n",
    "# variable of type integer\n",
    "age = 16\n",
    "print(\"age\", age, type(age))\n",
    "\n",
    "# variable of type float\n",
    "score = 100.0\n",
    "print(\"score\", score, type(score))\n",
    "\n",
    "print()\n",
    "\n",
    "# variable of type list (many values in one variable)\n",
    "langs = [\"Python\", \"Html\", \"CSS\", \"C\", \"Java\"]\n",
    "print(\"langs\", langs, type(langs))\n",
    "print(\"- langs[3]\", langs[3], type(langs[3]))\n",
    "\n",
    "print()\n",
    "\n",
    "# variable of type dictionary (a group of keys and values)\n",
    "person = {\n",
    "    \"name\": name,\n",
    "    \"age\": age,\n",
    "    \"score\": score,\n",
    "    \"langs\": langs\n",
    "}\n",
    "print(\"person\", person, type(person))\n",
    "print('- person[\"name\"]', person[\"name\"], type(person[\"name\"]))\n",
    "\n",
    "###REVERSED ORDER#####\n",
    "fruits = [\"Apple\", \"Orange\", \"Banana\", \"Pear\", \"Blueberry\", \"Grape\"]\n",
    "fruits.reverse()\n",
    "print('\\nReversed List:', fruits)\n",
    "\n",
    "###PRINT IN RANDOM ORDER####\n",
    "import random\n",
    "print(\"\\nAre you bored? Would you like us to give you a random, fun activity to do right now?\")\n",
    "activities = [\"biking\", \"baking\", \"playing basketball\", \"going to the beach\", \"sleeping\"]\n",
    "randomWord = random.choice(activities)\n",
    "print(\"An activity you could do is\", randomWord + \"!\")\n",
    "\n"
   ]
  },
  {
   "cell_type": "markdown",
   "metadata": {},
   "source": [
    "**Lists and Dictionaries**\n",
    "Our society is being build on information. List and Dictionaries are used to collect information. Mostly, when information is collected it is formed into patterns. As that pattern is established you will collect many instances of that pattern.\n",
    "\n",
    "List is used to collect many\n",
    "Dictionary is used to define data patterns.\n",
    "Iteration is often used to process through lists.\n",
    "To start exploring more deeply into List, Dictionary and Iteration we will explore constructing a List of people and cars.\n",
    "\n",
    "As we learned above, List is a data type: class 'list'\n",
    "A 'list' data type has the method '.append(expression)' that allows you to add to the list\n",
    "In the example below, the expression appended to the 'list' is the data type: class 'dict'\n",
    "At the end, you see a fairly complicated data structure. This is a list of dictionaries. The output looks similar to JSON and we will see this often, you will be required to understand this data structure and understand the parts. Easy peasy ;)."
   ]
  },
  {
   "cell_type": "code",
   "execution_count": 2,
   "metadata": {},
   "outputs": [
    {
     "name": "stdout",
     "output_type": "stream",
     "text": [
      "['eating', '', '']\n",
      "[{'FirstName': 'Emma', 'LastName': 'Shen', 'Gender': 'Female', 'DOB': 'July 29', 'Residence': 'San Diego', 'Email': 'aimashen.2017@gmail.com', 'PhoneNumber': '858-705-5930', 'Age': '16', 'Hobbies': ['Tennis', 'Listening to music', 'Baking']}, {'FirstName': 'Vivian', 'LastName': 'Ni', 'Gender': 'Female', 'DOB': 'May 13', 'Residence': 'San Diego', 'Email': 'vivianni452@gmail.com', 'PhoneNumber': '410-227-5596', 'Age': '16', 'Hobbies': ['Art', 'Cybersecurity', 'Graphic design']}, {'FirstName': 'alexa', 'LastName': 'murphy', 'Gender': 'female', 'DOB': 'july 28', 'Residence': 'la', 'Email': 'alfjweoef@gmail.com', 'PhoneNumber': '868-494-2938', 'Age': '19', 'Hobbies': ['eating', '', '']}]\n"
     ]
    }
   ],
   "source": [
    "# Define an empty List called InfoDb\n",
    "InfoDb = []\n",
    "\n",
    "# Append to List a 2nd Dictionary of key/values\n",
    "#added records for my gender, phone number, and age\n",
    "InfoDb.append({\n",
    "    \"FirstName\": \"Emma\",\n",
    "    \"LastName\": \"Shen\",\n",
    "    \"Gender\": \"Female\",\n",
    "    \"DOB\": \"July 29\",\n",
    "    \"Residence\": \"San Diego\",\n",
    "    \"Email\": \"aimashen.2017@gmail.com\",\n",
    "    \"PhoneNumber\": \"858-705-5930\", \n",
    "    \"Age\": \"16\",\n",
    "    \"Hobbies\": [\"Tennis\", \"Listening to music\", \"Baking\",]\n",
    "})\n",
    "\n",
    "#my partner info in dictionary \n",
    "InfoDb.append({\n",
    "    \"FirstName\": \"Vivian\",\n",
    "    \"LastName\": \"Ni\",\n",
    "    \"Gender\": \"Female\",\n",
    "    \"DOB\": \"May 13\",\n",
    "    \"Residence\": \"San Diego\",\n",
    "    \"Email\": \"vivianni452@gmail.com\",\n",
    "    \"PhoneNumber\": \"410-227-5596\", \n",
    "    \"Age\": \"16\",\n",
    "    \"Hobbies\": [\"Art\", \"Cybersecurity\", \"Graphic design\",]\n",
    "})\n",
    "\n",
    "import getpass, sys\n",
    "\n",
    "####User's input added to list###\n",
    "FirstName = input(\"Enter your first name: \")\n",
    "LastName = input(\"Enter your last name: \")\n",
    "Gender = input(\"Enter your gender: \")\n",
    "DOB = input(\"Enter your birthday: \")\n",
    "Residence = input(\"Enter your city: \")\n",
    "Email = input(\"Enter your email: \")\n",
    "PhoneNumber = input(\"Enter your phone number (with dashes in between): \" )\n",
    "Age = input(\"Enter your age: \")\n",
    "\n",
    "#for loop for hobbies, since want multiple outputs \n",
    "Hobbies=[]\n",
    "max_length = 3\n",
    "while len(Hobbies) < max_length: \n",
    "    userHobby = input(\"Enter a hobby you enjoy: \")\n",
    "    Hobbies.append(userHobby)\n",
    "print(Hobbies)\n",
    "\n",
    "    \n",
    "    \n",
    "InfoDb.append({\n",
    "    \"FirstName\": FirstName,\n",
    "    \"LastName\": LastName,\n",
    "    \"Gender\": Gender,\n",
    "    \"DOB\": DOB,\n",
    "    \"Residence\": Residence,\n",
    "    \"Email\": Email,\n",
    "    \"PhoneNumber\": PhoneNumber,\n",
    "    \"Age\": Age, \n",
    "    \"Hobbies\": Hobbies, \n",
    "})\n",
    "\n",
    "\n",
    "\n",
    "# Print the data structure\n",
    "print(InfoDb)"
   ]
  },
  {
   "cell_type": "markdown",
   "metadata": {},
   "source": [
    "**Formatted output of Dictionary**\n",
    "Managing data in Lists and Dictionaries is for the convenience of passing the data across the internet or preparing it to be stored into a database. Also, it is a great way to exchange data inside of our own programs.\n",
    "\n",
    "Next, we will take the stored data and output it within our notebook. There are multiple steps to this process...\n",
    "\n",
    "Preparing a function to format the data, the print_data() function receives a parameter called \"d_rec\" short for dictionary record. It then references different keys within [] square brackets.\n",
    "Preparing a function to iterate through the list, the for_loop() function uses an enhanced for loop that pull record by record out of InfoDb until the list is empty. Each time through the loop it call print_data(record), which passes the dictionary record to that function.\n",
    "Finally, you need to activate your function with the call to the defined function for_loop(). Functions are defined, not activated until they are called. By placing for_loop() at the left margin the function is activated."
   ]
  },
  {
   "cell_type": "code",
   "execution_count": 7,
   "metadata": {},
   "outputs": [
    {
     "name": "stdout",
     "output_type": "stream",
     "text": [
      "Formatted for loop output\n",
      "\n",
      "Emma Shen\n",
      "\t Gender: Female\n",
      "\t Birth Day: July 29\n",
      "\t Residence: San Diego\n",
      "\t Email: aimashen.2017@gmail.com\n",
      "\t Phone Number: 858-705-5930\n",
      "\t Age: 16\n",
      "\t Hobbies: tennis, listening to music, baking\n",
      "\n",
      "Vivian Ni\n",
      "\t Gender: Female\n",
      "\t Birth Day: May 13\n",
      "\t Residence: San Diego\n",
      "\t Email: vivianni452@gmail.com\n",
      "\t Phone Number: 410-227-5596\n",
      "\t Age: 16\n",
      "\t Hobbies: art, cybersecurity, graphic design\n",
      "\n",
      "Alan  Shen\n",
      "\t Gender: Male\n",
      "\t Birth Day: November 14\n",
      "\t Residence: Arizona\n",
      "\t Email: alanshen@gmail.com\n",
      "\t Phone Number: 858-860-4999\n",
      "\t Age: 21\n",
      "\t Hobbies: Gaming, Swimming, Cooking\n",
      "\n"
     ]
    }
   ],
   "source": [
    "# given and index this will print InfoDb content\n",
    "def print_data(d_rec):\n",
    "    print(d_rec[\"FirstName\"], d_rec[\"LastName\"])  # using comma puts space between values\n",
    "    print(\"\\t\", \"Gender:\", d_rec[\"Gender\"])\n",
    "    print(\"\\t\", \"Birth Day:\", d_rec[\"DOB\"])\n",
    "    print(\"\\t\", \"Residence:\", d_rec[\"Residence\"]) # \\t is a tab indent\n",
    "    print(\"\\t\", \"Email:\", d_rec[\"Email\"]) \n",
    "    print(\"\\t\", \"Phone Number:\", d_rec[\"PhoneNumber\"]) \n",
    "    print(\"\\t\", \"Age:\", d_rec[\"Age\"]) \n",
    "    print(\"\\t\", \"Hobbies: \", end=\"\") \n",
    "    print(\", \".join(d_rec[\"Hobbies\"]))\n",
    "    print()\n",
    "\n",
    "\n",
    "# for loop iterates on length of InfoDb\n",
    "def for_loop():\n",
    "    print(\"Formatted for loop output\\n\")\n",
    "    for record in InfoDb:\n",
    "        print_data(record)\n",
    "\n",
    "for_loop()"
   ]
  },
  {
   "cell_type": "markdown",
   "metadata": {},
   "source": [
    "**While loop**\n",
    "In coding, there are usually many ways to achieve the same result. Defined are functions illustrating using index to reference records in a list, these methods are called a \"while\" loop and \"recursion\".\n",
    "\n",
    "The while_loop() function contains a while loop, \"while i < len(InfoDb):\". This counts through the elements in the list start at zero, and passes the record to print_data()"
   ]
  },
  {
   "cell_type": "code",
   "execution_count": 4,
   "metadata": {},
   "outputs": [
    {
     "name": "stdout",
     "output_type": "stream",
     "text": [
      "While loop output\n",
      "\n",
      "{'FirstName': 'Emma', 'LastName': 'Shen', 'Gender': 'Female', 'DOB': 'July 29', 'Residence': 'San Diego', 'Email': 'aimashen.2017@gmail.com', 'PhoneNumber': '858-705-5930', 'Age': '16', 'Hobbies': ['Tennis', 'Listening to music', 'Baking']}\n",
      "{'FirstName': 'Vivian', 'LastName': 'Ni', 'Gender': 'Female', 'DOB': 'May 13', 'Residence': 'San Diego', 'Email': 'vivianni452@gmail.com', 'PhoneNumber': '410-227-5596', 'Age': '16', 'Hobbies': ['Art', 'Cybersecurity', 'Graphic design']}\n",
      "{'FirstName': 'alexa', 'LastName': 'murphy', 'Gender': 'female', 'DOB': 'july 28', 'Residence': 'la', 'Email': 'alfjweoef@gmail.com', 'PhoneNumber': '868-494-2938', 'Age': '19', 'Hobbies': ['eating', '', '']}\n"
     ]
    }
   ],
   "source": [
    "# while loop contains an initial n and an index incrementing statement (n += 1)\n",
    "def while_loop():\n",
    "    print(\"While loop output\\n\")\n",
    "    i = 0\n",
    "    while i < len(InfoDb):\n",
    "        record = InfoDb[i]\n",
    "        print(record)\n",
    "        i += 1\n",
    "    return\n",
    "\n",
    "while_loop()"
   ]
  },
  {
   "cell_type": "markdown",
   "metadata": {},
   "source": [
    "**Recursion (calling a loop repeatedly)**\n",
    "This final technique achieves looping by calling itself repeatedly.\n",
    "\n",
    "recursive_loop(i) function is primed with the value 0 on its activation with \"recursive_loop(0)\"\n",
    "the last statement indented inside the if statement \"recursive_loop(i + 1)\" activates another call to the recursive_loop(i) function, each time i is increasing\n",
    "ultimately the \"if i < len(InfoDb):\" will evaluate to false and the program ends"
   ]
  },
  {
   "cell_type": "code",
   "execution_count": 9,
   "metadata": {},
   "outputs": [
    {
     "name": "stdout",
     "output_type": "stream",
     "text": [
      "Recursive loop output\n",
      "\n",
      "Emma Shen\n",
      "\t Gender: Female\n",
      "\t Birth Day: July 29\n",
      "\t Residence: San Diego\n",
      "\t Email: aimashen.2017@gmail.com\n",
      "\t Phone Number: 858-705-5930\n",
      "\t Age: 16\n",
      "\t Hobbies: tennis, listening to music, baking\n",
      "\n",
      "Vivian Ni\n",
      "\t Gender: Female\n",
      "\t Birth Day: May 13\n",
      "\t Residence: San Diego\n",
      "\t Email: vivianni452@gmail.com\n",
      "\t Phone Number: 410-227-5596\n",
      "\t Age: 16\n",
      "\t Hobbies: art, cybersecurity, graphic design\n",
      "\n",
      "Alan  Shen\n",
      "\t Gender: Male\n",
      "\t Birth Day: November 14\n",
      "\t Residence: Arizona\n",
      "\t Email: alanshen@gmail.com\n",
      "\t Phone Number: 858-860-4999\n",
      "\t Age: 21\n",
      "\t Hobbies: Gaming, Swimming, Cooking\n",
      "\n"
     ]
    }
   ],
   "source": [
    "# recursion simulates loop incrementing on each call (n + 1) until exit condition is met\n",
    "def recursive_loop(i):\n",
    "    if i < len(InfoDb):\n",
    "        record = InfoDb[i]\n",
    "        print_data(record)\n",
    "        recursive_loop(i + 1)\n",
    "    return\n",
    "    \n",
    "print(\"Recursive loop output\\n\")\n",
    "recursive_loop(0)"
   ]
  },
  {
   "cell_type": "markdown",
   "metadata": {},
   "source": [
    "**Quiz that stores in a List of Dictionaries**"
   ]
  },
  {
   "cell_type": "code",
   "execution_count": 23,
   "metadata": {},
   "outputs": [
    {
     "name": "stdout",
     "output_type": "stream",
     "text": [
      "This is a 5 question trivia quiz, good luck!\n",
      "Question: Which is the largest planet in the solar system?\n",
      "Answer: Jupiter\n",
      "Correct Answer\n",
      "Question: Are worker bees male or female?\n",
      "Answer: Female\n",
      "Correct Answer\n",
      "Question: What type of fish is Nemo?\n",
      "Answer: Clownfish\n",
      "Correct Answer\n",
      "Question: How much is the diameter of a basketball hoop? (answer in inches and written out as a word)\n",
      "Answer: eighteen\n",
      "Correct Answer\n",
      "Question: Name the largest state in America\n",
      "Answer: alaska\n",
      "Correct Answer\n",
      "You scored 5 correct answers out of 5, nice going you trivia star!\n",
      "A record of your quiz: {'Q_1': 'Jupiter', 'Q_2': 'Female', 'Q_3': 'Clownfish', 'Q_4': 'eighteen', 'Q_5': 'alaska'}\n"
     ]
    }
   ],
   "source": [
    "questions = 5 #number of quiz questions\n",
    "correct = 0 #initialize number of correct answers as 0 \n",
    "\n",
    "print(\"This is a 5 question trivia quiz, good luck!\")\n",
    "\n",
    "\n",
    "def question_and_answer(prompt, answer):\n",
    "    print(\"Question: \" + prompt) #asks user a question\n",
    "    user_input = input() #takes user's input as variable msg \n",
    "    print(\"Answer: \" + user_input) #print user's input as Answer\n",
    "    \n",
    "    if answer == user_input.lower(): #convert user's input to lowercase\n",
    "        print(\"Correct Answer\")\n",
    "        global correct #allows to modify variable outside of current scope \n",
    "        correct += 1 #add 1 to correct count\n",
    "    else:\n",
    "        print (\"Incorrect Answer\")\n",
    "    return user_input \n",
    "\n",
    "question_1 = question_and_answer(\"Which is the largest planet in the solar system?\", \"jupiter\")\n",
    "question_2 = question_and_answer(\"Are worker bees male or female?\", \"female\")\n",
    "question_3 = question_and_answer(\"What type of fish is Nemo?\", \"clownfish\")\n",
    "question_4 = question_and_answer(\"How much is the diameter of a basketball hoop? (answer in inches and written out as a word)\", \"eighteen\")\n",
    "question_5 = question_and_answer(\"Name the largest state in America\", \"alaska\")\n",
    "\n",
    "if correct < 3:\n",
    "    print(f'You scored {correct} correct answers out of 5, better luck next time!')\n",
    "elif correct < 5:\n",
    "    print(f'You scored {correct} correct answers out of 5, nice try!')\n",
    "else: \n",
    "    print(f'You scored {correct} correct answers out of 5, nice going you trivia star!')\n",
    "\n",
    "Quiz = {\n",
    "    \"Q_1\": question_1,\n",
    "    \"Q_2\": question_2,\n",
    "    \"Q_3\": question_3,\n",
    "    \"Q_4\": question_4,\n",
    "    \"Q_5\": question_5\n",
    "}\n",
    "\n",
    "print(\"A record of your quiz:\", Quiz)"
   ]
  }
 ],
 "metadata": {
  "kernelspec": {
   "display_name": "Python 3.8.10 64-bit",
   "language": "python",
   "name": "python3"
  },
  "language_info": {
   "codemirror_mode": {
    "name": "ipython",
    "version": 3
   },
   "file_extension": ".py",
   "mimetype": "text/x-python",
   "name": "python",
   "nbconvert_exporter": "python",
   "pygments_lexer": "ipython3",
   "version": "3.8.10"
  },
  "orig_nbformat": 4,
  "vscode": {
   "interpreter": {
    "hash": "916dbcbb3f70747c44a77c7bcd40155683ae19c65e1c03b4aa3499c5328201f1"
   }
  }
 },
 "nbformat": 4,
 "nbformat_minor": 2
}
