{
 "cells": [
  {
   "attachments": {},
   "cell_type": "markdown",
   "metadata": {},
   "source": [
    "# Unit 3 Sections 16 Hacks\n",
    "> Hacks\n",
    "\n",
    "- toc: true\n",
    "- badges: true\n",
    "- comments: true\n",
    "- categories: [csp]"
   ]
  },
  {
   "attachments": {},
   "cell_type": "markdown",
   "metadata": {},
   "source": [
    "Question\tAnswer\n",
    "Name(First+Last)\t\n",
    "1\t\n",
    "2\t\n",
    "3\t\n",
    "4\t\n",
    "5\t\n",
    "6\t\n",
    "7\t\n",
    "8\t\n",
    "9\t"
   ]
  }
 ],
 "metadata": {
  "kernelspec": {
   "display_name": "base",
   "language": "python",
   "name": "python3"
  },
  "language_info": {
   "name": "python",
   "version": "3.9.12 (main, Apr  5 2022, 06:56:58) \n[GCC 7.5.0]"
  },
  "orig_nbformat": 4,
  "vscode": {
   "interpreter": {
    "hash": "adc4c76832433b5703473fd5a379ae75624d2e9db498a5bfaf0ea532f238cb81"
   }
  }
 },
 "nbformat": 4,
 "nbformat_minor": 2
}
