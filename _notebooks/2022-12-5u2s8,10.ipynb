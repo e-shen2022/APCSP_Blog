{
 "cells": [
  {
   "cell_type": "markdown",
   "metadata": {},
   "source": [
    "# Unit 3 Sections 8 & 10 Hacks\n",
    "> Hacks\n",
    "\n",
    "- toc: true\n",
    "- badges: true\n",
    "- comments: true\n",
    "- categories: [csp]"
   ]
  },
  {
   "cell_type": "markdown",
   "metadata": {},
   "source": [
    "<strong>Exercise #1</strong>\n",
    "\n",
    "Task: Reverse a list utilizing features of lists and iteration\n",
    "\n",
    "Hint: Use two parameters with the range function\n",
    "\n",
    "Expected Output\n",
    "\n",
    "5\n",
    "\n",
    "4\n",
    "\n",
    "3\n",
    "\n",
    "2\n",
    "\n",
    "1"
   ]
  },
  {
   "cell_type": "code",
   "execution_count": 5,
   "metadata": {},
   "outputs": [
    {
     "name": "stdout",
     "output_type": "stream",
     "text": [
      "[5, 4, 3, 2, 1]\n"
     ]
    }
   ],
   "source": [
    "list = [1, 2, 3, 4, 5]\n",
    "#for index i in number of items in the list's range (5)\n",
    "for i in range(len(list)):\n",
    "    #use pop function to take last item in the list and store in variable \n",
    "    last_item = list.pop()\n",
    "    #use insert function to replace item at index i with last item (front of list)\n",
    "    list.insert(i, last_item)\n",
    "print(list)\n",
    "\n",
    "\n",
    "\n"
   ]
  },
  {
   "cell_type": "markdown",
   "metadata": {},
   "source": [
    "<strong>Exercise #2</strong>\n",
    "\n",
    "Task: Similar to insertion sort, this algorithm takes an unsorted array and returns a sorted array\n",
    "\n",
    "Unlike insertion sort where you iterate through the each element and move the smaller elements to the front, this algorithm starts at the beginning and swaps the position of every element in the array.\n",
    "\n",
    "Expected Output\n",
    "\n",
    "The sorted array from 1-10:"
   ]
  },
  {
   "cell_type": "code",
   "execution_count": 27,
   "metadata": {},
   "outputs": [
    {
     "name": "stdout",
     "output_type": "stream",
     "text": [
      "The sorted list is [0, 1, 2, 3, 4, 5, 6, 7, 8, 9]\n",
      "The algorithm looped 10 times.\n"
     ]
    }
   ],
   "source": [
    "list = [9, 8, 4, 3, 5, 2, 6, 7, 1, 0] # Sort this\n",
    "\n",
    "loopnumber = 0\n",
    "while True: \n",
    "    count = 0\n",
    "    #iterate through index 0 to 8 \n",
    "    for i in range(len(list) - 1):\n",
    "        #if current number is greater than next number then swap \n",
    "        if list[i] > list[i+1]:\n",
    "            #set current number to variable temp \n",
    "            temp = list[i]\n",
    "            #set next number to current number value \n",
    "            list[i] = list[i+1]\n",
    "            #set temp (current number) to next number \n",
    "            list[i+1] = temp \n",
    "            count += 1\n",
    "    loopnumber += 1\n",
    "    if count == 0:\n",
    "        break\n",
    "print(f\"The sorted list is {list}\")\n",
    "print(f\"The algorithm looped {loopnumber} times.\")\n",
    "    \n"
   ]
  },
  {
   "cell_type": "markdown",
   "metadata": {},
   "source": [
    "<strong>Multiple Choice</strong>\n",
    "\n",
    "![]({{ site.baseurl }}/images/question9.png \"Ok\")\n",
    "\n",
    "Explanation: A for loop is used when the number of iterations is known, a while loop keeps iterating until the statement in the program is not true anymore. In the situation where the program keeps iterating through the loop until the user says to quit, tne number of iterations is not known therefore I would personally still use a while loop. I could use a for loop too though. \n",
    "\n",
    "\n"
   ]
  },
  {
   "cell_type": "markdown",
   "metadata": {},
   "source": [
    "<strong>Notes</strong>\n",
    "\n",
    "<mark>Functions to count how many items in a list</mark>\n",
    "\n",
    "len() → finds length \n",
    "\n",
    "List = [1, 2, 3]\n",
    "\n",
    "len(list) = 3\n",
    "\n",
    "range() → sequence of numbers between lower and upper bond \n",
    "\n",
    "list = [1,2,3]\n",
    "\n",
    "range(len(list)) = range(3) = index 0 to 2 \n",
    "\n",
    "\n",
    "<mark>Functions to add or remove items in a list</mark> \n",
    "\n",
    "pop() → remove last object in a list \n",
    "\n",
    "List = [“strawberry”, “blueberry”]\n",
    "\n",
    "list.pop()\n",
    "\n",
    "print(List) = [“strawberry”]\n",
    "\n",
    "remove() → remove object in a list \n",
    "\n",
    "List = [“strawberry”, “blueberry”]\n",
    "\n",
    "list.remove(“strawberry”)\n",
    "\n",
    "List = [“blueberry”] \n",
    "\n",
    "insert() → insert item at certain index in list\n",
    "\n",
    "List = [1, 3, 4]\n",
    "\n",
    "list.insert(1, 2)  \n",
    "\n",
    "print(list) = [1, 2, 3, 4] \n",
    "\n",
    "append() → adds item to end of list \n",
    "\n",
    "List = []\n",
    "\n",
    "list.append(“Yay”)\n",
    "\n",
    "List = [“Yay”]\n",
    "\n",
    "<mark>Iteration</mark>\n",
    "\n",
    "For loop - use when number of iterations is known \n",
    "\n",
    "While loop - program keeps running as long as condition is true \n"
   ]
  }
 ],
 "metadata": {
  "kernelspec": {
   "display_name": "Python 3.9.12 ('base')",
   "language": "python",
   "name": "python3"
  },
  "language_info": {
   "codemirror_mode": {
    "name": "ipython",
    "version": 3
   },
   "file_extension": ".py",
   "mimetype": "text/x-python",
   "name": "python",
   "nbconvert_exporter": "python",
   "pygments_lexer": "ipython3",
   "version": "3.9.12 (main, Apr  5 2022, 06:56:58) \n[GCC 7.5.0]"
  },
  "orig_nbformat": 4,
  "vscode": {
   "interpreter": {
    "hash": "adc4c76832433b5703473fd5a379ae75624d2e9db498a5bfaf0ea532f238cb81"
   }
  }
 },
 "nbformat": 4,
 "nbformat_minor": 2
}
