{
 "cells": [
  {
   "cell_type": "markdown",
   "metadata": {},
   "source": [
    "# Unit 3 Section 15 - Random Values \n",
    "- toc: true \n",
    "- badges: true\n",
    "- comments: true\n"
   ]
  },
  {
   "cell_type": "markdown",
   "metadata": {},
   "source": [
    "<html>\n",
    "<h3>College Board Learning Objectives</h3>\n",
    "<p>\n",
    "For generating random values: \n",
    "<ul>\n",
    "    <li>Write expressions to generate possible values</li>\n",
    "    <li>Evaluate expressions to determine the possible results</li>\n",
    "</ul>\n",
    "</p>\n",
    "</html>"
   ]
  },
  {
   "cell_type": "markdown",
   "metadata": {},
   "source": [
    "<html>\n",
    "<h3><mark>Randomization</mark> in our daily lives....</h3>\n",
    "<ul>\n",
    "    <li>Rolling a dice</li>\n",
    "    <li>Lottery Tickets</li>\n",
    "    <li>Game of Marbles</li>\n",
    "</ul>\n",
    "</html>"
   ]
  },
  {
   "cell_type": "markdown",
   "metadata": {},
   "source": [
    "<html>\n",
    "<h3>Essential Knowledge</h3>\n",
    "<p>\n",
    "The exam reference sheet provides:\n",
    "<br>\n",
    "<br>\n",
    "<strong>RANDOM(a, b) </strong>- which generates and returns a random integer from a to b, inclusive. Each result is equally likely to occur. \n",
    "<br>\n",
    "For example, random(1,3) could return 1, 2, or 3.\n",
    "<br>\n",
    "<br>\n",
    "<strong>Adding two ranges to get a third range</strong>\n",
    "<br>\n",
    "<br>\n",
    "Example Problem: \n",
    "<br>\n",
    "answer1 = random(0,2)\n",
    "<br>\n",
    "answer2 = random(1,5)\n",
    "<br>\n",
    "answer3 = answer1 + answer2\n",
    "<br>\n",
    "<br>\n",
    "What is the possible range of results for answer3?\n",
    "</p>\n",
    "</html>\n",
    "\n",
    "\n",
    "<details closed>\n",
    "<summary>Answer!</summary>\n",
    "[1, 2, 3, 4, 5, 6, 7]\n",
    "</details>\n",
    "\n",
    "<strong>Working with Random Number Generators</strong>\n",
    "<br>\n",
    "A die contains six sides with corresponding dots 1 through 6 on individual sides. Which of the following code segments can be used to simulate the results of rolling the die 3 times and assigns the sum of the values obtained by the rolls to the variable.\n",
    "<br>\n",
    "A) sum = 3 * random(1,6)\n",
    "<br>\n",
    "B) sum = random(1,18)\n",
    "<br>\n",
    "C) sum = random(1,6) + random(1,6) + random(1,6)\n",
    "\n",
    "<details closed>\n",
    "<summary>Answer!</summary>\n",
    "C\n",
    "</details>\n",
    "\n",
    "<strong>Random function in Code Segment</strong>\n",
    "![Alt text](../images/codesegment.png)\n",
    "<details closed>\n",
    "<summary>Answer!</summary>\n",
    "C 3 1 2\n",
    "</details>"
   ]
  },
  {
   "cell_type": "markdown",
   "metadata": {},
   "source": [
    "<h3>Different random methods</h3>"
   ]
  },
  {
   "cell_type": "markdown",
   "metadata": {},
   "source": [
    "1) Using random.choice"
   ]
  },
  {
   "cell_type": "code",
   "execution_count": 4,
   "metadata": {},
   "outputs": [
    {
     "name": "stdout",
     "output_type": "stream",
     "text": [
      "You should watch Sherlock Holmes!\n"
     ]
    }
   ],
   "source": [
    "import random\n",
    "\n",
    "tvshows_list = ['Squid Game', 'Cobra Kai', 'Gilmore Girls', 'Sherlock Holmes', 'Barbie in the Dream House']\n",
    "\n",
    "# pick a random choice from a list of strings.\n",
    "random_tvshow = random.choice(tvshows_list)\n",
    "print(f\"You should watch {random_tvshow}!\")\n"
   ]
  },
  {
   "cell_type": "markdown",
   "metadata": {},
   "source": [
    "2. Using random.shuffle"
   ]
  },
  {
   "cell_type": "code",
   "execution_count": 6,
   "metadata": {},
   "outputs": [
    {
     "name": "stdout",
     "output_type": "stream",
     "text": [
      "List before using shuffle:  [7, 8, 10, 22]\n",
      "List after using shuffle method:  [10, 8, 7, 22]\n"
     ]
    }
   ],
   "source": [
    "import random\n",
    "\n",
    "num_list = [7,8,10,22]\n",
    "\n",
    "print(\"List before using shuffle: \", num_list)\n",
    "random.shuffle(num_list)\n",
    "\n",
    "print(\"List after using shuffle method: \", num_list)"
   ]
  }
 ],
 "metadata": {
  "kernelspec": {
   "display_name": "Python 3.8.10 64-bit",
   "language": "python",
   "name": "python3"
  },
  "language_info": {
   "codemirror_mode": {
    "name": "ipython",
    "version": 3
   },
   "file_extension": ".py",
   "mimetype": "text/x-python",
   "name": "python",
   "nbconvert_exporter": "python",
   "pygments_lexer": "ipython3",
   "version": "3.8.10"
  },
  "orig_nbformat": 4,
  "vscode": {
   "interpreter": {
    "hash": "916dbcbb3f70747c44a77c7bcd40155683ae19c65e1c03b4aa3499c5328201f1"
   }
  }
 },
 "nbformat": 4,
 "nbformat_minor": 2
}
