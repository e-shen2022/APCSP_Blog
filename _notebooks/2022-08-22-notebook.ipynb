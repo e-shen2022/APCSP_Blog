{
 "cells": [
  {
   "cell_type": "markdown",
   "metadata": {},
   "source": [
    "# First Jupyter Notebook\n",
    "> Emma's first Jupyter Notebook \n",
    "\n",
    "- toc: true \n",
    "- badges: true\n",
    "- comments: true\n",
    "- categories: [jupyter, week0]\n",
    "- <!--image: images/chart-preview.png-->\n"
   ]
  },
  {
   "cell_type": "code",
   "execution_count": 1,
   "metadata": {},
   "outputs": [
    {
     "name": "stdout",
     "output_type": "stream",
     "text": [
      "Hi!! I hope you are having a wonderful day. What's one thing you are excited about today?\n"
     ]
    }
   ],
   "source": [
    "print(\"Hi!! I hope you are having a wonderful day. What's one thing you are excited about today?\")"
   ]
  }
 ],
 "metadata": {
  "kernelspec": {
   "display_name": "Python 3.10.5 64-bit",
   "language": "python",
   "name": "python3"
  },
  "language_info": {
   "codemirror_mode": {
    "name": "ipython",
    "version": 3
   },
   "file_extension": ".py",
   "mimetype": "text/x-python",
   "name": "python",
   "nbconvert_exporter": "python",
   "pygments_lexer": "ipython3",
   "version": "3.10.5"
  },
  "orig_nbformat": 4,
  "vscode": {
   "interpreter": {
    "hash": "1405e0d9cc1c9c4024744497d3ba461e72a505cedc3230f3ba492bfea7d81d2b"
   }
  }
 },
 "nbformat": 4,
 "nbformat_minor": 2
}
