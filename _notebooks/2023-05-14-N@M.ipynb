{
 "cells": [
  {
   "attachments": {},
   "cell_type": "markdown",
   "metadata": {},
   "source": [
    "<h1>Translating Realtime Human Facial Expressions to an Emoji through a Trained CNN Algorithm <h1>"
   ]
  },
  {
   "attachments": {},
   "cell_type": "markdown",
   "metadata": {},
   "source": [
    "<h2>Project Overview</h2>\n",
    "\n",
    "1. Project Purpose/Description\n",
    "2. Tool/Environment Setup \n",
    "3. Theory Exploration (Neural Networks)\n",
    "4. Creating and Compiling the Model\n",
    "5. Training \n",
    "6. Implement GUI "
   ]
  },
  {
   "attachments": {},
   "cell_type": "markdown",
   "metadata": {},
   "source": [
    "<h3>Vocab to look back on</h3>\n",
    "\n",
    "- Machine Learning \n",
    "\n",
    "- Neural Networks \n",
    "    - Deep Neural Networks \n",
    "    - Convolutional Neural Networks \n",
    "        -  Sequential\n",
    "        - Functional \n",
    "\n",
    "- Tensorflow "
   ]
  },
  {
   "attachments": {},
   "cell_type": "markdown",
   "metadata": {},
   "source": [
    "<h2><mark>#1</mark> Project Goals/Description</h2>\n",
    "\n",
    "The goal of this project is to create a model capable of detecting human emotion through a realtime web cam and match the expression with a corresponding emoji. \n",
    "\n",
    "For that we use a dataset containing more than 28700 images that is already classified in one of these 7 categories: angry, disgust, fear, happy, neutral, sad, and surprise. \n",
    "\n",
    "We are going to create a machine learning algorithm, specifically a Convolutional Neural Network (CNN), with the platform Tensorflow to train the model based on this data to recognize facial expressions and map those same emotions on an emoji. \n",
    "\n",
    "> Integrating the model with the frontend should result in a functionality that looks like this!\n",
    "\n",
    "![](https://i.imgur.com/XbjHSkG.png)"
   ]
  },
  {
   "attachments": {},
   "cell_type": "markdown",
   "metadata": {},
   "source": [
    "<h2><mark>#2</mark> Tool/Environment Setup</h2>\n",
    "\n",
    "<h3>Some tools/topics covered</h3>\n",
    "\n",
    "- Language: Python\n",
    "\n",
    "- Deep Neural Networks (Tensorflow)\n",
    "\n",
    "- Python Packages (Keras)\n",
    "\n",
    "<b>1. VSCode Environment</b>\n",
    "\n",
    "(a) Create a new folder in File Explorer and name it *Project Name*. Make sure you know the directory path\n",
    "\n",
    "(b) Open the folder in VSCODE \n",
    "\n",
    "(c) Create a new folder called \"src\" and two new files called \"train.py\" and \"emoji.py\". \n",
    "\n",
    "(d) Now create a subfolder under \"src\" called \"data\". Navigate to [this dataset](https://www.kaggle.com/datasets/msambare/fer2013) on Kaggle and download it. We will be using this dataset to train our model so look around and familiarize yourself with what this data is!\n",
    "\n",
    "(e) Download and extract the data into the \"data\" folder. You should now be able to see two subset folders labeled \"train\" and \"test\" folders with many pictures under the \"data\" folder. \n",
    "\n",
    "This is all you need to set up for now!\n",
    "\n",
    "<b>2. Modules to Install</b>\n",
    "- OpenCV \n",
    "- Numpy \n",
    "- Tensorflow\n",
    "- Keras\n",
    "\n",
    "Run these commands in terminal to install. These packages will later be used when compiling and training the model. \n",
    "\n",
    "> FOR WINDOWS \n",
    "\n",
    "    pip install opencv-python\n",
    "\n",
    "    pip install numpy \n",
    "\n",
    "    pip install tensorflow==2.8.0 (version 2.2 or higher)\n",
    "    \n",
    "    pip install keras"
   ]
  },
  {
   "attachments": {},
   "cell_type": "markdown",
   "metadata": {},
   "source": [
    "<h2><mark>#3</mark> Theory Exploration: Machine Learning & Neural Networks </h2>\n",
    "\n",
    "<h3>Machine Learning</h3>\n",
    "\n",
    "![](https://i.imgur.com/w8bT2HJ.png)\n",
    "\n",
    "- The term <nark>machine learning</mark> has become a buzz word used by all those interested or knowledgable about the tech world. But what really is it? \n",
    "\n",
    "- To put it simply, machine learning is like <b>teaching a computer to learn things by itself</b>. Just like how a child is able to recognize what a dog is after many experiences of seeing or playing with a dog, if we show a computer lots of pictures of animals and tell it which animal is which, the computer will learn to recognize those animals by itself when given new pictures. \n",
    "\n",
    "- Thus, machine learning is a way for computers to detect patterns and make predictions based on data rather than being explicitly programmed to do a certain task. \n",
    "\n",
    "<h3>Neural Networks</h3>\n",
    "\n",
    "![](https://i.imgur.com/3bORFz5.png)\n",
    "\n",
    "- A <mark>Neural Network</mark> is a type of machine learning model. It has 3 main types of layers: input, hidden, and output. It is designed <b>to work like a human brain by processing information through layers of connected neurons</b>. \n",
    "\n",
    "    - Each neuron recieves input, processes it, and then sends an output to the next layer of neurons. \n",
    "\n",
    "    - Each layer learns to identify increasingly complex features and patterns, building on the features learned by the previous layers. For example, in an image recognition task the 1st layer might learn to identify simple features such as edges/corners and in the next layer it might learn to identify more complex features such as curves or textures that are made up of these simple features. \n",
    "\n",
    "- In the picture above is an example of a <mark>Deep Neural Network</mark>, which is just a neural network with more than 2 hidden layers. These hidden layers are where most of the computations are made to identify patterns in the data and make predictions. The more # of hidden layers, the more the neural network is able to learn and recognize more COMPLEX patterns in the input data. \n",
    "\n",
    "<h3>Why are we using a Convolutional Neural Network (CNN)? </h3>\n",
    "\n",
    "A <mark>Convolutional Neural Network</mark> is a type of neural network that specializes in image processing and analysis.\n",
    "\n",
    "It is great for \n",
    "\n",
    "- Why use a Neural Network?\n",
    "    - Great for classifying objects and extracting certain features from them. While training our dataset, we will create feature hierarchy/ feature layers that will find We can find features in our input data \n",
    "\n",
    "*If you are still confused about the concept/process of neural networks, I recommend watching [this video](https://www.youtube.com/watch?v=bfmFfD2RIcg&t=270s)*\n"
   ]
  }
 ],
 "metadata": {
  "language_info": {
   "name": "python"
  },
  "orig_nbformat": 4
 },
 "nbformat": 4,
 "nbformat_minor": 2
}
