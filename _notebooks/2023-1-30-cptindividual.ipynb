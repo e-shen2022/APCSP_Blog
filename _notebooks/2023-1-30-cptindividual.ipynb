{
 "cells": [
  {
   "attachments": {},
   "cell_type": "markdown",
   "metadata": {},
   "source": [
    "# Individual CPT Submission Plam \n",
    "- toc: true \n",
    "- badges: true\n",
    "- comments: true \n",
    "- categories: [jupyter]"
   ]
  },
  {
   "attachments": {},
   "cell_type": "markdown",
   "metadata": {},
   "source": [
    "My portion of the project:"
   ]
  },
  {
   "attachments": {},
   "cell_type": "markdown",
   "metadata": {},
   "source": [
    "How I plan to fulfill 6 sections of College Board Rubric "
   ]
  }
 ],
 "metadata": {
  "kernelspec": {
   "display_name": "base",
   "language": "python",
   "name": "python3"
  },
  "language_info": {
   "name": "python",
   "version": "3.9.12 (main, Apr  5 2022, 06:56:58) \n[GCC 7.5.0]"
  },
  "orig_nbformat": 4,
  "vscode": {
   "interpreter": {
    "hash": "adc4c76832433b5703473fd5a379ae75624d2e9db498a5bfaf0ea532f238cb81"
   }
  }
 },
 "nbformat": 4,
 "nbformat_minor": 2
}
