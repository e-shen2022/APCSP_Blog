{
 "cells": [
  {
   "attachments": {},
   "cell_type": "markdown",
   "metadata": {},
   "source": [
    "# Unit 3 Sections 9-11 Hacks\n",
    "> Hacks\n",
    "\n",
    "- toc: true\n",
    "- badges: true\n",
    "- comments: true\n",
    "- categories: [csp]"
   ]
  },
  {
   "attachments": {},
   "cell_type": "markdown",
   "metadata": {},
   "source": [
    "1. Write this Boolean statement in the form of a conditional (if/else) statement: stayInside⟵((isCold) OR (isRaining))"
   ]
  },
  {
   "cell_type": "code",
   "execution_count": 2,
   "metadata": {},
   "outputs": [
    {
     "ename": "SyntaxError",
     "evalue": "invalid syntax (1571882439.py, line 1)",
     "output_type": "error",
     "traceback": [
      "\u001b[0;36m  Input \u001b[0;32mIn [2]\u001b[0;36m\u001b[0m\n\u001b[0;31m    if (isCold or isRaining) {\u001b[0m\n\u001b[0m                             ^\u001b[0m\n\u001b[0;31mSyntaxError\u001b[0m\u001b[0;31m:\u001b[0m invalid syntax\n"
     ]
    }
   ],
   "source": [
    "if (isCold or isRaining) {\n",
    "    stayInside <-- True\n",
    "}\n",
    "\n",
    "else {\n",
    "    stayInside <-- False\n",
    "}"
   ]
  },
  {
   "attachments": {},
   "cell_type": "markdown",
   "metadata": {},
   "source": [
    "2. Create an algorithm that uses selection and/or iteration that will represent one player’s complete turn."
   ]
  },
  {
   "cell_type": "code",
   "execution_count": 3,
   "metadata": {},
   "outputs": [
    {
     "name": "stdout",
     "output_type": "stream",
     "text": [
      "[4, 4, 6, 10]\n",
      "Max Score: 10\n"
     ]
    }
   ],
   "source": [
    "import random\n",
    "random_number = []\n",
    "\n",
    "i = 1 \n",
    "while i <= 4:\n",
    "    random_number.append(random.randint(1,10))\n",
    "    i = i +1 \n",
    "def sort(random_number):\n",
    "    for index in range(1,len(random_number)):\n",
    "        value = random_number[index]\n",
    "        i = index - 1\n",
    "        while i >= 0:\n",
    "            if value < random_number[i]:\n",
    "                random_number[i+1] = random_number[i] \n",
    "                random_number[i] = value \n",
    "                i = i - 1\n",
    "            else:\n",
    "                break\n",
    "            \n",
    "sort(random_number)\n",
    "print(random_number)\n",
    "print(\"Max Score:\", random_number[len(random_number)-1])"
   ]
  },
  {
   "attachments": {},
   "cell_type": "markdown",
   "metadata": {},
   "source": [
    "3. Create an algorithm that will allow the arrow to reach the gray square:"
   ]
  },
  {
   "cell_type": "code",
   "execution_count": null,
   "metadata": {},
   "outputs": [],
   "source": [
    "Repeat until reach gray square:\n",
    "\n",
    "If (can_moveForward) \n",
    "    Move_Forward\n",
    "    \n",
    "Else (can_moveRight) {\n",
    "    Rotate_Right\n",
    "    Move_Forward\n",
    "}"
   ]
  },
  {
   "attachments": {},
   "cell_type": "markdown",
   "metadata": {},
   "source": [
    "4. Make a binary search tree of different the list [1,2,3,4,6,9,11,69]\n",
    "\n",
    "*See image in issue*"
   ]
  },
  {
   "attachments": {},
   "cell_type": "markdown",
   "metadata": {},
   "source": [
    "5. Explain thorughly how to find the number 69 in the list above (use key words)\n",
    "\n",
    "To find 69 using sequential search, the list would be iterated 7 times. Using a binary search instead, this process would be much more efficient. The search would start from the middle index, then going to the first and last index and dividing by two. This process goes through until the number 69 is found."
   ]
  },
  {
   "attachments": {},
   "cell_type": "markdown",
   "metadata": {},
   "source": [
    "6. Make a diagram explaining how you found the list (not tree, include equation)\n",
    "\n",
    "*see image in issue*"
   ]
  },
  {
   "attachments": {},
   "cell_type": "markdown",
   "metadata": {},
   "source": [
    "7. Put this list of strings in a order that can be used for binary search [“store”,”Market”,”Walmart”,Target”,”Ralphs”]\n",
    "\n",
    "[\"Market”, ”Ralphs”, “store”, \"Target”, ”Walmart”]\n",
    "\n"
   ]
  },
  {
   "attachments": {},
   "cell_type": "markdown",
   "metadata": {},
   "source": [
    "8. Explain why Binary Search is more efficient than Sequential Search\n",
    "\n",
    "Binary search is quicker than sequential search because binary search takes out half of the possibilities every iteration. Since you start at the middle index, you can either choose to pick the group that is greater than the middle index, or the group that is lower. As a result, you will rule out half of the known possibilities every single time you make a cut."
   ]
  },
  {
   "attachments": {},
   "cell_type": "markdown",
   "metadata": {},
   "source": [
    "9. [64,36,16,11,9] Explain which number you are finding, how many check it would take, and make a binary search tree\n",
    "\n",
    "I would be searching for 36. First, I would select the middle element ((1+5)/2 = 3, and since 16 < 36,  I would move back, (as the list is reversed). Hence, I would select the 2nd element ((1+3)/2 = 2) and that is equal to 36, so it would take me two tries in order to get to 36.\n",
    "\n",
    "*See issue for image*"
   ]
  },
  {
   "attachments": {},
   "cell_type": "markdown",
   "metadata": {},
   "source": [
    "<strong>SUMMARY</strong>\n",
    "- Algorithm: A process or set of rules to be followed in calculations or other problem solving operations, especially by a computer.\n",
    "- Sequential Search (Inefficient search): compare each number to the number you want to find until you get to the number you want to find\n",
    "- Binary Search (Efficient search): repeats the process of finding a median and evaluating\n",
    "- Boolean Expressions: expression that evaluates to either true or false\n",
    "- Truth Tables: displays the logical operations on input signals in a table format, identifies all possible input combinations and the output for each"
   ]
  }
 ],
 "metadata": {
  "kernelspec": {
   "display_name": "base",
   "language": "python",
   "name": "python3"
  },
  "language_info": {
   "codemirror_mode": {
    "name": "ipython",
    "version": 3
   },
   "file_extension": ".py",
   "mimetype": "text/x-python",
   "name": "python",
   "nbconvert_exporter": "python",
   "pygments_lexer": "ipython3",
   "version": "3.9.12"
  },
  "orig_nbformat": 4,
  "vscode": {
   "interpreter": {
    "hash": "adc4c76832433b5703473fd5a379ae75624d2e9db498a5bfaf0ea532f238cb81"
   }
  }
 },
 "nbformat": 4,
 "nbformat_minor": 2
}
