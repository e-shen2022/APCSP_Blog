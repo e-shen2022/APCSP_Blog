{
 "cells": [
  {
   "cell_type": "code",
   "execution_count": null,
   "metadata": {},
   "outputs": [],
   "source": [
    "print(\"Hello!\")"
   ]
  }
 ],
 "metadata": {
  "kernelspec": {
   "display_name": "Python 3.10.5 64-bit",
   "language": "python",
   "name": "python3"
  },
  "language_info": {
   "name": "python",
   "version": "3.10.5"
  },
  "orig_nbformat": 4,
  "vscode": {
   "interpreter": {
    "hash": "1405e0d9cc1c9c4024744497d3ba461e72a505cedc3230f3ba492bfea7d81d2b"
   }
  }
 },
 "nbformat": 4,
 "nbformat_minor": 2
}
