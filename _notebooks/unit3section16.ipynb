{
 "cells": [
  {
   "cell_type": "markdown",
   "metadata": {},
   "source": [
    "# Hacks for simulations\n",
    "- comments: true\n",
    "- toc: true"
   ]
  },
  {
   "attachments": {},
   "cell_type": "markdown",
   "metadata": {},
   "source": [
    "<h2>Notes</h2>\n",
    "\n",
    "<strong>What is a simulation?</strong>\n",
    "-simpler abstraction of an very complicated natural phenomena\n",
    "-removes details that are too difficult to simulate\n",
    "\n",
    "<strong>Advantages of using a simulation</strong>\n",
    "1. Safer - avoid safety hazards in real-life experimentation\n",
    "2. Less expensive - don't need to buy real-world equipment, just abstract simulation! \n",
    "3. Repeatable - once a simulation is created, it's easy to repeat  it to get different but similar results \n",
    "4. Can make predictions - use previous data to predict what will happen in the future \n",
    "\n",
    "<strong>Examples</strong>\n",
    "- Rolling a dice must account for air resistance and velocity of the throw --> create a psuedo random number generator that can randomly generate a number from the 6 sides \n",
    "- Airplane transportation must account for weather, air resistance, etc --> run multiple simulations with variety of outside factor conditions \n",
    "\n",
    "<strong>Techniques to formulate a good simulation</strong>\n",
    "- Procedure and iteration\n",
    "- Flowcharts\n",
    "- Conditionals\n",
    "- Removing details; like accidents or weather\n"
   ]
  },
  {
   "attachments": {},
   "cell_type": "markdown",
   "metadata": {},
   "source": [
    "## Hacks\n",
    "\n",
    "Comment on this [blog post](https://edwinkuttappi.github.io/farmers/2022/11/17/hacks.html) to submit your hacks. <br> <br>\n",
    "Fill out the table with your full name and the LETTER of each answer for every question. **In order to receive any credit you must fill out the answer table according to the directions!** Each question is worth .1 points. To get >0.9/1 you can show your understanding in the area labeled extra. \n",
    "\n",
    "|Question|Answer |\n",
    "|---|---|\n",
    "|Emma Shen||\n",
    "|1|N/A|\n",
    "|2|N/A|\n",
    "|3|C - A and B are both true |\n",
    "|4|B - other aircraft in situation is important and can make big impact. rain, storm, + other small weather issues are less considered|\n",
    "|5|C - both simulations and experiment need to consider logistics of situation and what their purpose is|\n",
    "|6|A - to avoid safety issues when testing a new product, a simulation is better|\n",
    "|7|A - testing real-life greenhouse gas effect on environment is unsafe and can be better simulated|\n",
    "|8|N/A|\n",
    "|9|B - in this case there are not many other factors to consider or safety/money issue. If teacher wants to calculate test average should just use actual numbers therefore experiment|\n",
    "\n",
    "### Extra \n",
    "> Show your understanding. You could make a simple simulation, define vocab, etc."
   ]
  },
  {
   "cell_type": "markdown",
   "metadata": {},
   "source": [
    "## WHAT QUESTIONS\n",
    "\n",
    "3: What is not a reason to use a pseudo-random number generator when making a simulation?\n",
    "\n",
    "<br>A: To mock imperfections from the real world<br>B: To save resources <br>C: To make the simulation more accurate<br>\n",
    "\n",
    "4: Which of the following is the least likely factor to be removed from a flight(air traffic) simulation for functionality?\n",
    "<br>A: Weather<br>B: Other aircraft<br>C: Imperfections on aircraft\n",
    "\n",
    "## Experiment/Calculation or Simulation\n",
    "\n",
    "5: What is not (usually) a difference between a experiment and a simulation?\n",
    "<br>A: Resources and time needed <br>B: Factors considered <br>C: Situation considered\n",
    "\n",
    "**For each situation answer: Would it make more sense to use a simulation or a experiment/calculation?**\n",
    "\n",
    "6: A car company needs to know how safe it's customers will be if it's new car crashes\n",
    "<br>A: Simulation <br>B: Experiment/calculation<br>\n",
    "\n",
    "7: A environmental group wants an accurate guess on the impact the greenhouse effect will have on the environment\n",
    "<br>A: Simulation <br>B: Experiment/calculation<br>\n",
    "\n",
    "9: A teacher want's to find the average score from a final \n",
    "<br>A: Simulation <br>B: Experiment/calculation\n",
    "\n"
   ]
  },
  {
   "attachments": {},
   "cell_type": "markdown",
   "metadata": {},
   "source": [
    "<h2>Extra Credit </h2>"
   ]
  },
  {
   "attachments": {},
   "cell_type": "markdown",
   "metadata": {},
   "source": [
    "Purpose: Simulate 600 rolls of a 6 sided dice "
   ]
  },
  {
   "cell_type": "code",
   "execution_count": 8,
   "metadata": {},
   "outputs": [
    {
     "name": "stdout",
     "output_type": "stream",
     "text": [
      "Outcome of 600 random rolls of a 6 sided dice \n",
      "     roll\n",
      "0       2\n",
      "1       2\n",
      "2       5\n",
      "3       3\n",
      "4       6\n",
      "..    ...\n",
      "595     5\n",
      "596     3\n",
      "597     1\n",
      "598     6\n",
      "599     3\n",
      "\n",
      "[600 rows x 1 columns]\n"
     ]
    }
   ],
   "source": [
    "import random\n",
    "import pandas as pd \n",
    "\n",
    "data = []                      #1 empty list data\n",
    "for i in range(600):           #2 for-loop\n",
    "  roll = random.randint(1, 6)  #3 simulate real-world factors (randomization in 6 sided dice)\n",
    "  d = { \"roll\": roll }         #4 accumulate factors in dictionary d\n",
    "  data.append(d)               #5 append d to list data \n",
    "df = pd.DataFrame(data)        #6 create the DataFrame (outside of the for-loop)\n",
    "\n",
    "print(f\"Outcome of 600 random rolls of a 6 sided dice \\n{df}\")\n"
   ]
  }
 ],
 "metadata": {
  "kernelspec": {
   "display_name": "base",
   "language": "python",
   "name": "python3"
  },
  "language_info": {
   "codemirror_mode": {
    "name": "ipython",
    "version": 3
   },
   "file_extension": ".py",
   "mimetype": "text/x-python",
   "name": "python",
   "nbconvert_exporter": "python",
   "pygments_lexer": "ipython3",
   "version": "3.9.12"
  },
  "orig_nbformat": 4,
  "vscode": {
   "interpreter": {
    "hash": "adc4c76832433b5703473fd5a379ae75624d2e9db498a5bfaf0ea532f238cb81"
   }
  }
 },
 "nbformat": 4,
 "nbformat_minor": 2
}
