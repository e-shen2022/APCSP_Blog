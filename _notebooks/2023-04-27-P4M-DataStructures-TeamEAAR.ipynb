{
 "cells": [
  {
   "attachments": {},
   "cell_type": "markdown",
   "metadata": {},
   "source": [
    "# Data Structures Guide \n",
    "> A guide to data structures such as lists, dictionaries, 2D arrays, and iteration\n",
    "  \n",
    "- title: Data Structures Guide\n",
    "- author: Team EAAR, Ethan Tran, Alex Kumar, Advay Shindikar, Amay Advani, Rohin Sood"
   ]
  },
  {
   "attachments": {},
   "cell_type": "markdown",
   "metadata": {},
   "source": [
    "## Objectives:\n",
    "\n",
    "Students will be able to...\n",
    "- Understand the concept of data structures, including lists, dictionaries, and 2D arrays\n",
    "- Learn how to iterate through data structures using loops\n",
    "- Able to visualize data structures and iteration processes\n",
    "- Able to apply their knowledge to build simulations/interactions using lists and iteration\n",
    "- Learn how to store list and dictionary content in databases\n",
    "\n",
    "\n",
    "# Lesson 1: Lists and Iteration \n",
    "\n",
    "\n",
    "## Lists (Ethan)\n",
    "\n",
    "- Lists are a type of data structure that can store multiple items in a single variable\n",
    "- Lists are defined using square brackets [ ]\n",
    "- Each item in a list is separated by a comma\n",
    "- Lists are indexed, starting at 0 "
   ]
  },
  {
   "cell_type": "code",
   "execution_count": 15,
   "metadata": {},
   "outputs": [
    {
     "name": "stdout",
     "output_type": "stream",
     "text": [
      "['apple', 'banana', 'orange', 'grape']\n"
     ]
    }
   ],
   "source": [
    "# Example list\n",
    "fruits = [\"apple\", \"banana\", \"orange\", \"grape\"]\n",
    "print(fruits)"
   ]
  },
  {
   "attachments": {},
   "cell_type": "markdown",
   "metadata": {},
   "source": [
    "## Accessing Lists\n",
    "\n",
    "- To access individual items in a list, we use the index of the item.\n",
    "- Python uses zero-based indexing, which means the first item in the list has an index of 0, the second item has an index of 1, and so on."
   ]
  },
  {
   "cell_type": "code",
   "execution_count": 6,
   "metadata": {},
   "outputs": [
    {
     "name": "stdout",
     "output_type": "stream",
     "text": [
      "apple\n",
      "orange\n"
     ]
    }
   ],
   "source": [
    "print(fruits[0])   \n",
    "print(fruits[2]) "
   ]
  },
  {
   "attachments": {},
   "cell_type": "markdown",
   "metadata": {},
   "source": [
    "## Slicing Lists\n",
    "\n",
    "- We can also extract a specific portion of a list using slicing.\n",
    "- We use the colon : operator to specify a range of indices to include."
   ]
  },
  {
   "cell_type": "code",
   "execution_count": 23,
   "metadata": {},
   "outputs": [
    {
     "name": "stdout",
     "output_type": "stream",
     "text": [
      "['apple', 'banana']\n"
     ]
    }
   ],
   "source": [
    "print(fruits[0:2])    "
   ]
  },
  {
   "attachments": {},
   "cell_type": "markdown",
   "metadata": {},
   "source": [
    "## Modifying List Items\n",
    "\n",
    "- Lists are mutable, meaning that we can change the value of an item in a list.\n",
    "- To change the value of an item in a list, we can use the indexing operator (square brackets) to access the item and then assign a new value to it."
   ]
  },
  {
   "cell_type": "code",
   "execution_count": 25,
   "metadata": {},
   "outputs": [
    {
     "name": "stdout",
     "output_type": "stream",
     "text": [
      "['apple', 'banana', 'pear', 'grape', 'kiwi']\n"
     ]
    }
   ],
   "source": [
    "fruits[2] = \"pear\"\n",
    "print(fruits)"
   ]
  },
  {
   "attachments": {},
   "cell_type": "markdown",
   "metadata": {},
   "source": [
    "## Adding and Removing List Items\n",
    "\n",
    "> Adding\n",
    "\n",
    "- Use the append() method to add an item to the end of a list."
   ]
  },
  {
   "cell_type": "code",
   "execution_count": 26,
   "metadata": {},
   "outputs": [
    {
     "name": "stdout",
     "output_type": "stream",
     "text": [
      "['apple', 'banana', 'pear', 'grape', 'kiwi', 'kiwi']\n"
     ]
    }
   ],
   "source": [
    "fruits.append(\"kiwi\") # Adds 'kiwi' to the end of the list\n",
    "print(fruits)"
   ]
  },
  {
   "cell_type": "markdown",
   "metadata": {},
   "source": [
    "- Use the insert() method to add an item to a specific index in a list."
   ]
  },
  {
   "cell_type": "code",
   "execution_count": 27,
   "metadata": {},
   "outputs": [
    {
     "name": "stdout",
     "output_type": "stream",
     "text": [
      "['apple', 'peach', 'banana', 'pear', 'grape', 'kiwi', 'kiwi']\n"
     ]
    }
   ],
   "source": [
    "fruits.insert(1, \"peach\") # Inserts \"peach\" at index 1\n",
    "print(fruits)"
   ]
  },
  {
   "attachments": {},
   "cell_type": "markdown",
   "metadata": {},
   "source": [
    "> Removing\n",
    "\n",
    "- Use the remove() method to remove the first occurrence of an item from a list."
   ]
  },
  {
   "cell_type": "code",
   "execution_count": 28,
   "metadata": {},
   "outputs": [
    {
     "name": "stdout",
     "output_type": "stream",
     "text": [
      "['apple', 'peach', 'banana', 'grape', 'kiwi', 'kiwi']\n"
     ]
    }
   ],
   "source": [
    "fruits.remove('pear') # Removes the first occurrence of 'pear'\n",
    "print(fruits)"
   ]
  },
  {
   "attachments": {},
   "cell_type": "markdown",
   "metadata": {},
   "source": [
    "- Use the pop() method to remove the item at a specific index from a list."
   ]
  },
  {
   "cell_type": "code",
   "execution_count": 29,
   "metadata": {},
   "outputs": [
    {
     "name": "stdout",
     "output_type": "stream",
     "text": [
      "['apple', 'peach', 'grape', 'kiwi', 'kiwi']\n"
     ]
    }
   ],
   "source": [
    "fruits.pop(2) # Removes the item at index 2\n",
    "print(fruits)"
   ]
  },
  {
   "cell_type": "markdown",
   "metadata": {},
   "source": [
    "- Use the clear() method to remove all items from a list."
   ]
  },
  {
   "cell_type": "code",
   "execution_count": 30,
   "metadata": {},
   "outputs": [
    {
     "name": "stdout",
     "output_type": "stream",
     "text": [
      "[]\n"
     ]
    }
   ],
   "source": [
    "fruits.clear() # Removes all items from the list\n",
    "print(fruits)"
   ]
  },
  {
   "attachments": {},
   "cell_type": "markdown",
   "metadata": {},
   "source": [
    "## Function Explanation\n",
    "\n",
    "> InsertToList\n",
    "\n",
    "- This function is designed to insert a new item into a list at a specific index.\n",
    "- It first retrieves the new item to be added and the index at which to add it from the HTML document.\n",
    "- It checks if the retrieved values are both valid integers and if the index is within the range of the list.\n",
    "- If the values are valid, the function uses the splice() method to insert the new item into the list at the specified index. \n",
    "- In JavaScript, the splice() method modifies an array by removing, replacing, or adding elements.\n",
    "- The splice() method takes three arguments: the index at which to start changing the list, the number of elements to remove, and the new item to add. \n",
    "- The item is inserted without removing any elements, so we pass 0 as the second argument.\n",
    "- Finally, the function calls the visualizeList() function to display the updated list on the web page.\n",
    "\n",
    "```\n",
    "  // Get the value of the new item and the index where it should be inserted\n",
    "  function insertToList() {\n",
    "      let newItem = parseInt(document.getElementById(\"newItem\").value);\n",
    "      let index = parseInt(document.getElementById(\"index\").value);\n",
    "      if (!isNaN(newItem) && !isNaN(index) && index >= 0 && index <= myList.length) {\n",
    "        // splice() method to insert the new item into the list\n",
    "        myList.splice(index - 1, 0, newItem);\n",
    "        // Call the visualizeList() function to update the display of the list\n",
    "        visualizeList();\n",
    "      }\n",
    "    } ```"
   ]
  },
  {
   "attachments": {},
   "cell_type": "markdown",
   "metadata": {},
   "source": [
    "> SortList\n",
    "\n",
    "- In JavaScript, sort() is a built-in method used to sort the elements of an array in place. The default sort order is ascending, but you can also specify a descending sort order.\n",
    "- In this case, the function sorts myList in ascending order based on their numerical value.\n",
    "\n",
    "```\n",
    "  // Sort myList array in ascending order     \n",
    "  function sortList() {\n",
    "      // The function a - b is used, which subtracts the second element b from the first element a. \n",
    "      // If the result is negative, a is sorted before b. If the result is positive, b is sorted before a. If the result is zero, the order of the elements is unchanged.\n",
    "      myList.sort((a, b) => a - b);\n",
    "      visualizeList();\n",
    "    }```"
   ]
  },
  {
   "attachments": {},
   "cell_type": "markdown",
   "metadata": {},
   "source": [
    "## Applications of Lists\n",
    "\n",
    "- Data processing: Lists are commonly used to store and process large amounts of data. In data analysis and machine learning, lists are often used to store datasets.\n",
    "\n",
    "- Gaming: Lists are used extensively in game development to store game objects, player statistics, and game maps.\n",
    "\n",
    "- Finance: Lists are used in finance to store and process financial data, such as stock prices and market trends. The data from these lists can also be used to calculate financial metrics and to create financial models."
   ]
  },
  {
   "attachments": {},
   "cell_type": "markdown",
   "metadata": {},
   "source": [
    "## Iteration (Alex)\n",
    "\n",
    "What is iteration?\n",
    "\n",
    "- In programming, iteration refers to the process of repeating a set of instructions until a specific condition is met. This can be achieved using loop structures like for loops and while loops.\n",
    "\n",
    "For Loops\n",
    "\n",
    "- A for loop is used to iterate over a sequence (e.g. a list, tuple, string, etc.) and execute a set of statements for each item in the sequence. Here's the basic syntax of a for loop in Python:"
   ]
  },
  {
   "cell_type": "code",
   "execution_count": 2,
   "metadata": {},
   "outputs": [
    {
     "name": "stdout",
     "output_type": "stream",
     "text": [
      "1\n",
      "2\n",
      "3\n",
      "4\n",
      "5\n",
      "6\n",
      "7\n"
     ]
    }
   ],
   "source": [
    "sequence = [1,2,3,4,5,6,7]\n",
    "for variable in sequence:\n",
    "    print(variable)"
   ]
  },
  {
   "cell_type": "code",
   "execution_count": 3,
   "metadata": {},
   "outputs": [
    {
     "name": "stdout",
     "output_type": "stream",
     "text": [
      "H\n",
      "e\n",
      "l\n",
      "l\n",
      "o\n",
      ",\n",
      " \n",
      "W\n",
      "o\n",
      "r\n",
      "l\n",
      "d\n",
      "!\n"
     ]
    }
   ],
   "source": [
    "my_string = \"Hello, World!\"\n",
    "\n",
    "for character in my_string:\n",
    "    print(character)"
   ]
  },
  {
   "cell_type": "markdown",
   "metadata": {},
   "source": [
    "While Loops A while loop is used to repeat a set of statements as long as a condition is true. Here's the basic syntax of a while loop in Python:"
   ]
  },
  {
   "cell_type": "code",
   "execution_count": 4,
   "metadata": {},
   "outputs": [
    {
     "name": "stdout",
     "output_type": "stream",
     "text": [
      "0\n",
      "1\n",
      "2\n",
      "3\n",
      "4\n"
     ]
    }
   ],
   "source": [
    "num = 0\n",
    "\n",
    "while num < 5:\n",
    "    print(num)\n",
    "    num += 1"
   ]
  },
  {
   "attachments": {},
   "cell_type": "markdown",
   "metadata": {},
   "source": [
    "## Applications of Iteration\n",
    "\n",
    "> Iteration is a fundamental concept in computer programming and is used in a variety of real-life applications. Here are some examples:\n",
    "\n",
    "Data Processing\n",
    "\n",
    "- Data processing often involves iterating over large datasets to perform specific operations on each element. For example, in a data analysis task, you might iterate over a list of numbers to compute the average, or iterate over a list of strings to find the longest string.\n",
    "\n",
    "User Interfaces\n",
    "\n",
    "- User interfaces often involve iteration to display and handle data from various sources. For example, in a web application, you might iterate over a list of users to display their information in a table. Similarly, in a desktop application, you might iterate over a list of files to display them in a file explorer.\n",
    "\n",
    "Machine Learning\n",
    "\n",
    "- Machine learning algorithms often involve iterative processes to train models and improve their accuracy. For example, in a gradient descent algorithm, you might iterate over a set of training data to update the model's parameters and minimize the loss function.\n",
    "\n",
    "## Popcorn hack (0.3)\n",
    "\n",
    "- Make a list related to your CPT project ✅\n",
    "- Make a for loop that will print each term in the list ✅\n",
    "- Make a while loop that will print each term in the list ✅\n",
    "- Explain mechanics behind the loop works ✅"
   ]
  },
  {
   "attachments": {},
   "cell_type": "markdown",
   "metadata": {},
   "source": [
    "<b>Explanation for code below:</b>\n",
    "- I first created a list called fibromyalgia_symps that stores the sicknesses fibromyalgia's symptoms\n",
    "- The for loop iterates through each item in that list and prints it until all the symptoms have been looped through"
   ]
  },
  {
   "cell_type": "code",
   "execution_count": 28,
   "metadata": {},
   "outputs": [
    {
     "name": "stdout",
     "output_type": "stream",
     "text": [
      "Fatigue\n",
      "Depression\n",
      "Anxiety\n",
      "Insomnia\n",
      "Headache\n"
     ]
    }
   ],
   "source": [
    "#My CPT Project is taking symptoms as an input and outputting a diagnosis of the user's most likely sickness \n",
    "fibromyalgia_symps = ['Fatigue', 'Depression', 'Anxiety', 'Insomnia', 'Headache']\n",
    "\n",
    "#For loop \n",
    "for symptom in fibromyalgia_symps:\n",
    "    print(symptom) "
   ]
  },
  {
   "attachments": {},
   "cell_type": "markdown",
   "metadata": {},
   "source": [
    "<b>Explanation for code below:</b>\n",
    "- Using the same list from above\n",
    "- Initialize index to 0\n",
    "- While loop keeps iterating through each term in the list while the index is less than the total length of the list\n",
    "- Then it prints the term at that index, which is the symptom, and adds 1 to the index to iterate to the next item in the list "
   ]
  },
  {
   "cell_type": "code",
   "execution_count": 27,
   "metadata": {},
   "outputs": [
    {
     "name": "stdout",
     "output_type": "stream",
     "text": [
      "Fatigue\n",
      "Depression\n",
      "Anxiety\n",
      "Insomnia\n",
      "Headache\n"
     ]
    }
   ],
   "source": [
    "fibromyalgia_symps = ['Fatigue', 'Depression', 'Anxiety', 'Insomnia', 'Headache']\n",
    "\n",
    "#While loop \n",
    "i = 0 \n",
    "while i < len(fibromyalgia_symps):\n",
    "    print(fibromyalgia_symps[i])\n",
    "    i = i + 1 \n"
   ]
  },
  {
   "attachments": {},
   "cell_type": "markdown",
   "metadata": {},
   "source": [
    "Simulation mechanics\n",
    "\n",
    "- In Python, pop() is a method that is used to remove and return an element from a list. The syntax for using pop() is as follows:"
   ]
  },
  {
   "cell_type": "code",
   "execution_count": 31,
   "metadata": {},
   "outputs": [
    {
     "name": "stdout",
     "output_type": "stream",
     "text": [
      "[1, 2, 3, 4, 5]\n",
      "[1, 2, 3, 4]\n",
      "[1, 3, 4]\n"
     ]
    }
   ],
   "source": [
    "my_list = [1, 2, 3, 4, 5]\n",
    "print(my_list)\n",
    "my_list.pop()\n",
    "print(my_list)\n",
    "my_list.pop(1)\n",
    "print(my_list)"
   ]
  },
  {
   "cell_type": "markdown",
   "metadata": {},
   "source": [
    "In Python, append() is a built-in method that is used to add an element to the end of a list. The syntax for using append() is as follows:"
   ]
  },
  {
   "cell_type": "code",
   "execution_count": 32,
   "metadata": {},
   "outputs": [
    {
     "name": "stdout",
     "output_type": "stream",
     "text": [
      "[1, 2, 3]\n"
     ]
    }
   ],
   "source": [
    "my_list = []\n",
    "my_list.append(1)\n",
    "my_list.append(2)\n",
    "my_list.append(3)\n",
    "print(my_list)"
   ]
  },
  {
   "attachments": {},
   "cell_type": "markdown",
   "metadata": {},
   "source": [
    "#  Dictionary Lesson / 2D Arrays\n",
    "\n",
    "## Lesson 2: Dictionary's and 2 Dimensional Arrays\n",
    "\n",
    "Advay Shindikar and Amay Advani\n",
    "\n",
    "# Objective:\n",
    "  - Understand the concept of dictionaries and how they can be applied\n",
    "  - Learn how to add, modify, and delete entries in a dictionary using the assignment operator and the del keyword\n",
    "  - Understand the concept of 2D arrays and how they can be used to store data in rows and columns\n",
    "  - Learn how to create a 2D array in Python using a nested list\n",
    "  - Understand how to access values in a 2D array using row and column indices\n",
    "  - Learn how to use indexing and slicing to access a subset of a 2D array\n",
    "\n",
    "\n",
    "-----\n",
    "\n",
    "\n",
    "````\n",
    "student = {'name': 'Advay', 'age': 16, 'Sophomore'}\n",
    "````\n",
    "\n",
    "````\n",
    "students = ['advay', 'amay', 'rohin', 'alex', 'ethan']\n",
    "````\n",
    "-----\n",
    "\n",
    "# Check In: ✅\n",
    "\n",
    "- <b>Of the above code segments, which is a list and which is a dictionary?</b>\n",
    "\n",
    "The first code segment is a dictionary, the 2nd is a list \n",
    "- <b>What is a dictionary and how is it used?</b>\n",
    "\n",
    "A dictionary is a type of 2D array that matches key-value pairs. It allows us to associate a value to a unique key, and then to quickly access this value. \n",
    "- <b>What is a 2D Array?</b>\n",
    "\n",
    "Arrays where the data element's position is referred to by two indices. The name specifies two dimensions, like row and column, i and j \n",
    "- <b>How are 2D Arrays different from 1D Arrays or Lists and what can they be used for?</b>\n",
    "\n",
    "1D arrays are just one row of values, while 2D arrays contain a grid of values that has several rows/columns. @d  are especially useful when the data is naturally organized in rows and columns like in a spreadsheet, bingo, battleship, theater seats, classroom seats, or a picture\n",
    "\n",
    "## Manipulating Dictionaries"
   ]
  },
  {
   "cell_type": "code",
   "execution_count": 33,
   "metadata": {},
   "outputs": [
    {
     "name": "stdout",
     "output_type": "stream",
     "text": [
      "Your grocery list:\n",
      "- Apple: $1.0\n",
      "- Orange: $1.0\n",
      "- Chocolate: $1.0\n",
      "- M&M: $1.0\n",
      "Total cost: $4.0\n",
      "Your grocery list:\n",
      "- Apple: $1.0\n",
      "- Orange: $1.0\n",
      "- Chocolate: $1.0\n",
      "- M&M: $1.0\n",
      "Total cost: $8.0\n",
      "Final grocery list:\n",
      "- Apple: $1.0\n",
      "- Orange: $1.0\n",
      "- Chocolate: $1.0\n",
      "- M&M: $1.0\n",
      "Total cost: $8.0\n"
     ]
    }
   ],
   "source": [
    "grocery_dict = {}\n",
    "\n",
    "# ask the user to enter grocery items and their prices\n",
    "while True:\n",
    "    item = input(\"Enter an item for your grocery list (or 'done' to exit): \")\n",
    "    if item == \"done\":\n",
    "        break\n",
    "    else:\n",
    "        price = float(input(\"Enter the price of {}: \".format(item)))\n",
    "        grocery_dict[item] = price\n",
    "\n",
    "# print the grocery list and total cost\n",
    "total_cost = 0\n",
    "while True:\n",
    "    print(\"Your grocery list:\")\n",
    "    for item, price in grocery_dict.items():\n",
    "        total_cost = total_cost + price\n",
    "        print(\"- {}: ${}\".format(item, price))\n",
    "    print(\"Total cost: ${}\".format(total_cost))\n",
    "    \n",
    "    # ask the user to choose an action\n",
    "    action = input(\"What would you like to do? (add/remove/done) \")\n",
    "    \n",
    "    # add a new item to the grocery list\n",
    "    if action == \"add\":\n",
    "        item = input(\"Enter the name of the item you would like to add: \")\n",
    "        price = float(input(\"Enter the price of {}: \".format(item)))\n",
    "        grocery_dict[item] = price\n",
    "        total_cost += price\n",
    "    \n",
    "    # remove an item from the           j\n",
    "        item = input(\"Enter the name of the item you would like to remove: \")\n",
    "        if item in grocery_dict:\n",
    "            total_cost -= grocery_dict[item]\n",
    "            del grocery_dict[item]\n",
    "        else:\n",
    "            print(\"Item not found in grocery list!\")\n",
    "    \n",
    "    # exit the loop and print the final grocery list and total cost\n",
    "    elif action == \"done\":\n",
    "        break\n",
    "\n",
    "print(\"Final grocery list:\")\n",
    "for item, price in grocery_dict.items():\n",
    "    print(\"- {}: ${}\".format(item, price))\n",
    "print(\"Total cost: ${}\".format(total_cost))\n"
   ]
  },
  {
   "attachments": {},
   "cell_type": "markdown",
   "metadata": {},
   "source": [
    "## Lists Hacks (0.3) ✅\n",
    "\n",
    "- Make your own list and manipulate it via accessing specific elements, adding or removing elements, etc. \n",
    "- Extra: Make an interactable visualization that can manipulate elements in a list such as the one demonstrated in our flask repository"
   ]
  },
  {
   "cell_type": "code",
   "execution_count": 5,
   "metadata": {},
   "outputs": [
    {
     "name": "stdout",
     "output_type": "stream",
     "text": [
      "The average test score was 84.25\n",
      "The first test score is 98\n",
      "The new list with score of 0 is [98, 33, 100, 78, 99, 78, 90, 98, 0]\n",
      "The new list inserting the score of 73 at index 1 is [98, 73, 33, 100, 78, 99, 78, 90, 98, 0]\n",
      "The list now that the score 0 is removed [98, 73, 33, 100, 78, 99, 78, 90, 98]\n",
      "The list removing the score at index 5 is now [98, 73, 33, 100, 78, 78, 90, 98]\n",
      "This is the list after clearing all scores []\n"
     ]
    }
   ],
   "source": [
    "#List that holds students' test scores \n",
    "total = 0 \n",
    "test_scores = [98, 33, 100, 78, 99, 78, 90, 98]\n",
    "for i in test_scores:\n",
    "    total = total + i\n",
    "average = total / len(test_scores)\n",
    "#Print average\n",
    "print(f\"The average test score was {average}\")\n",
    "\n",
    "#Access\n",
    "print(f\"The first test score is {test_scores[0]}\")\n",
    "\n",
    "#Add item to front of list\n",
    "test_scores.append(0) \n",
    "print(f\"The new list with score of 0 is {test_scores}\")\n",
    "\n",
    "#Insert item into a specific position in the list \n",
    "test_scores.insert(1, 73) \n",
    "print(f\"The new list inserting the score of 73 at index 1 is {test_scores}\")\n",
    "\n",
    "#Remove \n",
    "test_scores.remove(0) # Removes the first occurrence of 0\n",
    "print(f\"The list now that the score 0 is removed {test_scores}\")\n",
    "\n",
    "#Remove item at specific position \n",
    "test_scores.pop(5) \n",
    "print(f\"The list removing the score at index 5 is now {test_scores}\")\n",
    "\n",
    "#Clear all items\n",
    "test_scores.clear() # Removes all items from the list\n",
    "print(f\"This is the list after clearing all scores {test_scores}\")\n",
    "\n"
   ]
  },
  {
   "attachments": {},
   "cell_type": "markdown",
   "metadata": {},
   "source": [
    "## Dictionaries Hack(0.3) ✅\n",
    "- Remake the dictionaries simulation in a python terminal, look at the JavaScript code for reference "
   ]
  },
  {
   "cell_type": "code",
   "execution_count": 3,
   "metadata": {},
   "outputs": [
    {
     "name": "stdout",
     "output_type": "stream",
     "text": [
      "{'acute bronchitis': ['Cough', 'Mucus'], 'allergy': ['Runny nose', 'Sneezing', 'Itchy Eyes', 'Watery Eyes'], 'amebiasis': ['Fever', 'Nausea', 'Diarrhea'], 'anxiety': ['Increased heart rate', 'Hyperventilation', 'Sweating', 'Trembling'], 'brain cancer': ['Headache', 'Blurred vision'], 'chlamydia': ['Bleeding', 'Discharge'], 'Colorado Tick Fever(CTF)': ['Fever', 'Sore Throat', 'Vomiting', 'Rash'], 'COVID-19': ['Fever', 'Sore throat', 'Runny nose'], 'depression': ['Fatigue', 'Imsomnia', 'Agitation'], 'diarrhea': ['Fever', 'Cramps', 'Bloating', 'Nausea', 'Vomiting'], 'ear infection': ['Fever', 'Ear Pain'], 'endometriosis': ['Stomache ache', 'Bleeding'], 'fibromyalgia': ['Fatigue', 'Depression', 'Anxiety', 'Insomnia', 'Headache'], 'flu': ['Fever', 'Cough', 'Runny nose'], 'lupus': ['Fatigue', 'Fever'], 'lyme disease': ['Fever', 'Fatigue', 'Headache'], 'mononucleosis': ['Fatigue', 'Fever', 'Sore Throat', 'Headache'], 'pink eye': ['Runny nose', 'Blurred vision'], 'pneumonia': ['Cough', 'Fatigue', 'Fever', 'Nausea', 'Vomiting'], 'schizophrenia': ['Anxiety', 'Paranoia', 'Hallucination'], 'ofuwhef': 'aef,wefwe,ewf'}\n"
     ]
    }
   ],
   "source": [
    "# Existing dictionary where key-value pairs match a sickness to its list of attributed symptoms\n",
    "diagnosis_database = {\n",
    "    \"acute bronchitis\": ['Cough', 'Mucus'],\n",
    "    \"allergy\": ['Runny nose', 'Sneezing', 'Itchy Eyes', 'Watery Eyes'],\n",
    "    \"amebiasis\": ['Fever', 'Nausea', 'Diarrhea'],\n",
    "    \"anxiety\": ['Increased heart rate', 'Hyperventilation', 'Sweating', 'Trembling'],\n",
    "    \"brain cancer\": ['Headache', 'Blurred vision'],\n",
    "    \"chlamydia\": ['Bleeding', 'Discharge'],\n",
    "    \"Colorado Tick Fever(CTF)\": ['Fever', 'Sore Throat', 'Vomiting', 'Rash'],\n",
    "    \"COVID-19\": ['Fever', 'Sore throat', 'Runny nose'],\n",
    "    \"depression\": ['Fatigue', 'Imsomnia', 'Agitation'],\n",
    "    \"diarrhea\": ['Fever', 'Cramps', 'Bloating', 'Nausea', 'Vomiting'],\n",
    "    \"ear infection\": ['Fever', 'Ear Pain'],\n",
    "    \"endometriosis\": ['Stomache ache', 'Bleeding'],\n",
    "    \"fibromyalgia\": ['Fatigue', 'Depression', 'Anxiety', 'Insomnia', 'Headache'],\n",
    "    \"flu\": ['Fever', 'Cough', 'Runny nose'],\n",
    "    \"lupus\": ['Fatigue', 'Fever'],\n",
    "    \"lyme disease\": ['Fever', 'Fatigue', 'Headache'],\n",
    "    \"mononucleosis\": ['Fatigue', 'Fever', 'Sore Throat', 'Headache'],\n",
    "    \"pink eye\": ['Runny nose', 'Blurred vision'],\n",
    "    \"pneumonia\": ['Cough', 'Fatigue', 'Fever', 'Nausea', 'Vomiting'],\n",
    "    \"schizophrenia\": ['Anxiety', 'Paranoia', 'Hallucination'],\n",
    "    }\n",
    "\n",
    "# User inputs new key-value pair or changes the values of an existing key in the dictionary\n",
    "while True:\n",
    "    key = input(\"Enter the sickness (or type 'done' to finish): \")\n",
    "    if key == 'done':\n",
    "        break\n",
    "    value = input(\"Enter the symptoms attributed to that sickness: \")\n",
    "    diagnosis_database[key] = value\n",
    "\n",
    "# display database \n",
    "print(diagnosis_database)"
   ]
  },
  {
   "attachments": {},
   "cell_type": "markdown",
   "metadata": {},
   "source": [
    "## 2D Arrays Hack (0.3): ✅\n",
    "- Remake the 2D Arrays simulation in a python terminal, look at the JavaScript code for reference\n",
    "- Use PIL to visualize it further"
   ]
  },
  {
   "cell_type": "code",
   "execution_count": 4,
   "metadata": {},
   "outputs": [
    {
     "name": "stdout",
     "output_type": "stream",
     "text": [
      "number of rows: 5\n",
      "number of columns: 5\n",
      "[ ] [ ] [ ] [ ] [ ]\n",
      "[ ] [ ] [ ] [ ] [ ]\n",
      "[ ] [ ] [ ] [ ] [ ]\n",
      "[ ] [ ] [ ] [ ] [ ]\n",
      "[ ] [ ] [ ] [ ] [ ]\n"
     ]
    }
   ],
   "source": [
    "num_rows = int(input(\"Enter the number of rows: \"))\n",
    "print(f\"number of rows: {num_rows}\")\n",
    "num_cols = int(input(\"Enter the number of columns: \"))\n",
    "print(f\"number of columns: {num_cols}\")\n",
    "\n",
    "# generate the grid\n",
    "grid = []\n",
    "for i in range(num_rows):\n",
    "    row = []\n",
    "    for j in range(num_cols):\n",
    "        row.append('[ ]')\n",
    "    grid.append(row)\n",
    "\n",
    "# print the grid\n",
    "for row in grid:\n",
    "    print(' '.join(row))"
   ]
  }
 ],
 "metadata": {
  "kernelspec": {
   "display_name": "Python 3",
   "language": "python",
   "name": "python3"
  },
  "language_info": {
   "codemirror_mode": {
    "name": "ipython",
    "version": 3
   },
   "file_extension": ".py",
   "mimetype": "text/x-python",
   "name": "python",
   "nbconvert_exporter": "python",
   "pygments_lexer": "ipython3",
   "version": "3.9.12"
  },
  "orig_nbformat": 4
 },
 "nbformat": 4,
 "nbformat_minor": 2
}
