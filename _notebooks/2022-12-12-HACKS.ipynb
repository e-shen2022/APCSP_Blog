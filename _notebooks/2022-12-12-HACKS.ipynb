{
 "cells": [
  {
   "cell_type": "markdown",
   "metadata": {},
   "source": [
    "# Homework/Hacks for Sections 17-18\n",
    "> Homework/Hacks for Sections 17-18\n",
    "\n",
    "- toc: true \n",
    "- badges: true\n",
    "- comments: true \n",
    "- categories: [jupyter]\n",
    "- author: Shaurya Goel"
   ]
  },
  {
   "attachments": {},
   "cell_type": "markdown",
   "metadata": {},
   "source": [
    "<h2>NOTES🎄</h2>\n",
    "\n",
    "<strong>Some vocab</strong>\n",
    "- problem: description of a task (may or may not be able to be solved by an algorithm)\n",
    "- instance: specific input of a problem \n",
    "- decision problem: binary answer \n",
    "- optimization: objective of finding BEST solution among other possibilties to solve reason\n",
    "Algorithm efficiency determine through mathematical reasoning \n",
    "\n",
    "<strong>How to determine if an algorithm is efficient?</strong>\n",
    "- number of times a statement executes\n",
    "- algorithms with polynomial effiency or slower (constant, linear, square, cube, etc) are said to run in a reasonable amount of time. Algorithms with EXPONENTIAL run w/unreasonable amount of time :(\n",
    "\n",
    "<strong>4️⃣ types of algorithms</strong>\n",
    "1. First step: an integer being multiplied by a variable 'n'. Ex. 5 * n\n",
    "2. Second step: an integer to the power of the variable 'n'. Ex. 3^4\n",
    "3. Third step: a variable multiplied by an integer, all to the power of 2. Ex. (2 * n)^2.\n",
    "4. Fourth step: variable factorial. Ex. 5! = 120.\n",
    "\n",
    "<strong>Run⏱️</strong>\n",
    "- constant time: Always takes a fixed number of steps, no matter how large the input size increases\n",
    "- linear time: number of steps increases in direct proportion to the input size\n",
    "- quadratic time: steps increase in proportion to the input size squared\n",
    "- exponential time: grows in superpolynomial time, its number of steps increases faster than a polynomial function of the input size.\n"
   ]
  },
  {
   "cell_type": "markdown",
   "metadata": {},
   "source": [
    "### HACK 1"
   ]
  },
  {
   "attachments": {},
   "cell_type": "markdown",
   "metadata": {},
   "source": [
    "<strong>Please write a short 1-2 sentence explanation describing the difference between decidable and undecidable problems. Make sure to provide at least one example of each.</strong>\n",
    "\n",
    "A decidable problem can use a computer program to produce a correct output for all possible inputs. An undecidable problem cannot be solved by an algorithm. They either cannot provide a definite yes or no answer, or has correct output for some instances but not all. \n",
    "\n",
    "Decidable problem example: \n"
   ]
  },
  {
   "cell_type": "code",
   "execution_count": 6,
   "metadata": {},
   "outputs": [
    {
     "name": "stdout",
     "output_type": "stream",
     "text": [
      "92837429384729381 is odd 🥸\n"
     ]
    }
   ],
   "source": [
    "number = int(input(\"Which number do you want to check? \"))\n",
    "if number % 2 == 0:\n",
    "    print(f\"{number} is even 🤯\")\n",
    "else:\n",
    "    print(f\"{number} is odd 🥸\")"
   ]
  },
  {
   "attachments": {},
   "cell_type": "markdown",
   "metadata": {},
   "source": [
    "Undecidable problem example: "
   ]
  },
  {
   "cell_type": "code",
   "execution_count": 7,
   "metadata": {},
   "outputs": [],
   "source": [
    "age = 18\n",
    "while age < 13: \n",
    "    print(\"You get $5 off as a child in the movie theaters!\")\n",
    "    age = age + 1 "
   ]
  },
  {
   "cell_type": "markdown",
   "metadata": {},
   "source": [
    "### HACK 2"
   ]
  },
  {
   "attachments": {},
   "cell_type": "markdown",
   "metadata": {},
   "source": [
    "Which of the following is a 3 step algorithm?\n",
    "\n",
    "A. 2 x 6 x 8\n",
    "\n",
    "B. 4^5\n",
    "\n",
    "<mark>C. (3 x 8)^2</mark>\n",
    "\n",
    "D. None of the above\n",
    "\n",
    "E. All of the above\n",
    "\n",
    "Note: A three-step algorithm is an algorithm where there is a variable multiplied by an integer, all to the power of 2. "
   ]
  },
  {
   "cell_type": "markdown",
   "metadata": {},
   "source": [
    "### HACK 3: Rewrite this JavaScript Code in a More Efficient Way (Hint: Use Binary Search)"
   ]
  },
  {
   "cell_type": "code",
   "execution_count": null,
   "metadata": {
    "vscode": {
     "languageId": "javascript"
    }
   },
   "outputs": [],
   "source": [
    "function peak_finder(array) {\n",
    "  //find middle element \n",
    "  let middle = Math.floor(array.length / 2);\n",
    "\n",
    "  //if middle element is greater than or equal to its neighbors, it is a peak !!!\n",
    "  if (array[middle] >= array[middle - 1] && array[middle] >= array[middle + 1]) {\n",
    "    return `The ${middle} indexed number, ${array[middle]} is a peak`;\n",
    "  }\n",
    "\n",
    "  //if the middle element is less than left neighbor, the peak is to the left\n",
    "  else if (array[middle] < array[middle - 1]) {\n",
    "    return peak_finder(array.slice(0, middle));\n",
    "  }\n",
    "  //else, the peak is to the right\n",
    "  else {\n",
    "    return peak_finder(array.slice(middle + 1));\n",
    "  }\n",
    "}"
   ]
  },
  {
   "cell_type": "markdown",
   "metadata": {},
   "source": [
    "### HACK 4: Rewrite this Python Code in a More Efficient Way"
   ]
  },
  {
   "cell_type": "code",
   "execution_count": 10,
   "metadata": {},
   "outputs": [
    {
     "name": "stdout",
     "output_type": "stream",
     "text": [
      "unsorted data: [9, 1, 7, 6, 2, 8, 5, 3, 4, 0]\n",
      "sorted data [0, 1, 2, 3, 4, 5, 6, 7, 8, 9]\n"
     ]
    }
   ],
   "source": [
    "#using the sort method yay\n",
    "\n",
    "data = [9, 1, 7, 6, 2, 8, 5, 3, 4, 0] #data unsorted \n",
    "\n",
    "print(\"unsorted data:\", data) \n",
    "\n",
    "data.sort()  # sort function to sort through data \n",
    "\n",
    "print(\"sorted data\", data) "
   ]
  },
  {
   "cell_type": "markdown",
   "metadata": {},
   "source": [
    "### HACK 5: Rewrite this Python Code in a More Efficient Way"
   ]
  },
  {
   "cell_type": "code",
   "execution_count": 11,
   "metadata": {},
   "outputs": [
    {
     "name": "stdout",
     "output_type": "stream",
     "text": [
      "[1, 2, 3]\n",
      "[2, 1, 3]\n",
      "[3, 1, 2]\n",
      "[1, 3, 2]\n",
      "[2, 3, 1]\n",
      "[3, 2, 1]\n"
     ]
    }
   ],
   "source": [
    "def heap_permutation(data, n):\n",
    "    if n == 1:\n",
    "        print(data)\n",
    "        return\n",
    "    \n",
    "    for i in range(n):\n",
    "        heap_permutation(data, n - 1)\n",
    "        if n % 2 == 0:\n",
    "            data[i], data[n-1] = data[n-1], data[i]\n",
    "        else:\n",
    "            data[0], data[n-1] = data[n-1], data[0]\n",
    "    \n",
    "if __name__ == '__main__':\n",
    "    data = [1, 2, 3]\n",
    "    heap_permutation(data, len(data))"
   ]
  }
 ],
 "metadata": {
  "kernelspec": {
   "display_name": "Python 3.8.10 64-bit",
   "language": "python",
   "name": "python3"
  },
  "language_info": {
   "codemirror_mode": {
    "name": "ipython",
    "version": 3
   },
   "file_extension": ".py",
   "mimetype": "text/x-python",
   "name": "python",
   "nbconvert_exporter": "python",
   "pygments_lexer": "ipython3",
   "version": "3.8.10"
  },
  "orig_nbformat": 4,
  "vscode": {
   "interpreter": {
    "hash": "916dbcbb3f70747c44a77c7bcd40155683ae19c65e1c03b4aa3499c5328201f1"
   }
  }
 },
 "nbformat": 4,
 "nbformat_minor": 2
}
