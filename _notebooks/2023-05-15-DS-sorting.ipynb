{
 "cells": [
  {
   "attachments": {},
   "cell_type": "markdown",
   "metadata": {},
   "source": [
    "# Sorting Algorithms\n",
    "> Working with Data Structures and manipulating data.\n",
    "\n",
    "- toc: true\n",
    "- categories: []\n",
    "- type: pbl\n",
    "- week: 34"
   ]
  },
  {
   "attachments": {},
   "cell_type": "markdown",
   "metadata": {},
   "source": [
    "[wget link](https://raw.githubusercontent.com/nighthawkcoders/APCSP/master/_notebooks/2023-05-15-DS-sorting.ipynb)"
   ]
  },
  {
   "cell_type": "code",
   "execution_count": 3,
   "metadata": {},
   "outputs": [
    {
     "name": "stdout",
     "output_type": "stream",
     "text": [
      "Random List\n",
      "[9, 62, 78, 54, 18, 74, 58, 84, 20, 46]\n"
     ]
    }
   ],
   "source": [
    "import random\n",
    "\n",
    "numbers = []\n",
    "for i in range(10):\n",
    "    numbers.append(random.randint(0,100))\n",
    "print(\"Random List\")\n",
    "print(numbers)"
   ]
  },
  {
   "attachments": {},
   "cell_type": "markdown",
   "metadata": {},
   "source": [
    "# Warm Up\n",
    "\n",
    "> Discuss with a partner... \n",
    "What are some strategies you would use to sort this list? (Don't worry about writing code for now)\n",
    "- <b>Start with the first number and look at each number and if it is smaller than number to the right than put it to the left and if larger than number to the right than put to the right (swapping like bubble sort)</b>"
   ]
  },
  {
   "attachments": {},
   "cell_type": "markdown",
   "metadata": {},
   "source": [
    "# Explore\n",
    "\n",
    "Get into groups of 3\n",
    "\n",
    "We will be focusing on 4 algorithms today.\n",
    "\n",
    "We will look at the first one together, Bubble Sort\n",
    "\n",
    "![](images/bubble-sort.png)\n",
    "\n",
    "What is happening with this sort?\n",
    "\n",
    "In your groups you will each choose to be an expert on a sorting algorithm. Merge, Selection, and Insertion.\n",
    "Take about 5 minutes to read about your algorithm (Geek for Geeks linked below) and be ready to explain it to your other group members. \n",
    "\n",
    "[Merge](https://www.geeksforgeeks.org/merge-sort/#): <b>divides an array into smaller subarrays, sorting each subarray, and then merging the sorted subarrays back together to form the final sorted array (time complexity O(n log n) and stable)</b>\n",
    "\n",
    "[Selection](https://www.geeksforgeeks.org/selection-sort/): <b>Repeatedly selecting the smallest/largest element from the unsorted portion of the list and moving it to the sorted portion of the list. The algorithm repeatedly selects the smallest/largest element from the unsorted portion of the list and swaps it with the first element of the unsorted portion. This process is repeated for the remaining unsorted portion of the list until the entire list is sorted --> maintains 2 subarrays in a given array - sorted and unsorted </b>\n",
    "\n",
    "[Insertion](https://www.geeksforgeeks.org/insertion-sort/): <b>Array is split into a sorted and unsorted parts. Values from the unsorted part are picked and placed at the correct position in the sorted part (efficient for small data values)</b>"
   ]
  },
  {
   "attachments": {},
   "cell_type": "markdown",
   "metadata": {},
   "source": [
    "## Practice\n",
    "\n",
    "[75, 17, 46, 80, 67, 45, 69, 79, 40, 0]\n",
    "\n",
    "How would you sort this list with... \n",
    "- Bubble Sort: <b>Iterate through each index in the list and check each pair of numbers. If the number with smaller index is greater than number with larger index it is swapped with that number. Keep doing this until entire list is sorted from least to greatest </b>\n",
    "- Selection: <b>Select the smallest element from the unsorted portion of the list and moving it to the sorted portion of the list. Keeping doing this until entire list is sorted. </b>\n",
    "> Explain.\n",
    "<b>End result: [0, 17, 40, 45, 46, 67, 69, 75, 79, 80]</b>\n",
    "\n",
    "[88, 39, 53, 39, 58, 43, 74, 81, 71, 51]\n",
    "\n",
    "How would you sort this list with... \n",
    "- Merge Sort: <b>Divides the array of index 0 to 9 and sorting each half and then merging the sorted halves. </b>\n",
    "- Insertion Sort: <b>Insert largest number to the very right (80), and smallest to 0, and inset each number individually in correct index. </b>\n",
    "> Explain.\n",
    "<b>End result: [39, 39, 43, 51, 58, 71, 74, 81, 88]</b>\n"
   ]
  },
  {
   "attachments": {},
   "cell_type": "markdown",
   "metadata": {},
   "source": [
    "# Sorting Words\n",
    "> Sorting strings works in the same way as integers. Using your expertise algorithm, sort the following list of random words."
   ]
  },
  {
   "cell_type": "code",
   "execution_count": 2,
   "metadata": {},
   "outputs": [
    {
     "name": "stdout",
     "output_type": "stream",
     "text": [
      "Random List\n",
      "['crosslet', 'delayage', 'whiffer', 'exterritorialize', 'sensile', 'practiced', 'parsonlike', 'sensibilization', 'unroofed', 'Erse']\n",
      "Sorted list\n",
      "['Ursa', 'airfreighter', 'despairful', 'fleeceflower', 'hanaster', 'lexicon', 'nonbrowsing', 'nonproducer', 'premedic', 'statutable']\n"
     ]
    },
    {
     "name": "stderr",
     "output_type": "stream",
     "text": [
      "[nltk_data] Downloading package words to /home/emma/nltk_data...\n",
      "[nltk_data]   Package words is already up-to-date!\n"
     ]
    }
   ],
   "source": [
    "import nltk\n",
    "import random\n",
    "\n",
    "nltk.download('words')  # Download the word list (only required once)\n",
    "\n",
    "from nltk.corpus import words\n",
    "\n",
    "english_words = words.words()\n",
    "#print(len(english_words))  # Prints the number of words in the list\n",
    "\n",
    "# You can now use the 'english_words' list in your code\n",
    "\n",
    "words = []\n",
    "for i in range(10):\n",
    "    words.append(english_words[random.randint(0,len(english_words))])\n",
    "print(\"Random List\")\n",
    "print(words)\n",
    "\n",
    "my_list = ['hanaster', 'airfreighter', 'nonbrowsing', 'Ursa', 'statutable', 'fleeceflower', 'nonproducer', 'premedic', 'lexicon', 'despairful']\n",
    "my_list.sort()\n",
    "print(\"Sorted list\")\n",
    "print(my_list)\n"
   ]
  },
  {
   "attachments": {},
   "cell_type": "markdown",
   "metadata": {},
   "source": [
    "## Discuss \n",
    "Answer the following with your group.\n",
    "\n",
    "- When should you use each algorithm? What makes an algorithm the right choice?\n",
    "<b>An algorithm can be deemed the right choice by its effiency or time/iterations taken for a certain situation. </b>\n",
    "- Given the following lists...\n",
    "    - [0, 2, 6, 4, 8, 10] --> bubble or insertion sort bc it is already partially sorted in ascending order \n",
    "    - [Elephant, Banana, Cat, Dog, Apple] --> insertion bc small list and partially sorted  \n",
    "    - [29, 13, 83, 47, 32, 78, 100, 60, 65, 15, 24, 9, 40, 68, 53, 8, 90, 58, 39, 32, 34, 91, 74, 94, 49, 87, 34, 87, 23, 17, 27, 2, 38, 58, 84, 15, 9, 46, 74, 40, 44, 8, 55, 28, 81, 92, 81, 88, 53, 38, 19, 21, 9, 54, 21, 67, 3, 41, 3, 74, 13, 71, 70, 45, 5, 36, 80, 64, 97, 86, 73, 74, 94, 79, 49, 32, 20, 68, 64, 69, 1, 77, 31, 56, 100, 80, 48, 75, 85, 93, 67, 57, 26, 56, 43, 53, 59, 28, 67, 50] --> merge bc handles large lists very well "
   ]
  },
  {
   "attachments": {},
   "cell_type": "markdown",
   "metadata": {},
   "source": [
    "## HACKS\n",
    "> Provided below is a Bubble Sort Algorithm sorting a list of dictionaries based off of selected key.\n",
    "\n",
    "- Now it's time to do some coding...\n",
    "\n",
    "- Run code and then research and answer these questions...\n",
    "    - Is a list and/or dictionary in python considered a primitive or collection type?  Why?\n",
    "        - In Python, both lists and dictionaries are considered collection type\n",
    "        - A primitive type refers to data types such as integers, floats, booleans, and characters. These types hold a single value and are not composed of smaller elements. On the other hand, collection types are data structures that can hold multiple values or objects.\n",
    "        - Lists in Python are ordered collections of elements, where each element can be of any data type. Lists are considered collection types because they can store multiple values in a single variable.\n",
    "    - Is the list passed into bubble sort \"pass-by-value\" or \"pass-by-reference? Describe why in relation to output\n",
    "        - In Python, the list is passed by reference when passed into a function like bubble sort\n",
    "        - This means that any changes made to the list inside the function will affect the original list outside the function. The reason for this behavior is that when a list is passed to a function, its 'reference' is passed, rather than creating a new copy of the entire list.\n",
    "        - In the case of bubble sort, as elements are swapped within the function, the original list is modified. The modifications are reflected in the output because the function operates directly on the referenced list\n",
    "\n",
    "- Implement new cell(s) and/or organize cells to do the following.\n",
    "    - Create your own list\n",
    "    - Use your expertise sorting algorithm (selection, insertion, merge). Note, I got my bubble sort from Geek for Geeks and made modifications. Each student in a group should have a unique algorithm.\n",
    "    - Test your list with my bubble sort\n",
    "    - Test my list with your new sort\n",
    "    - Research analysis on sorting: comparisons, swaps, time.  Build this into your hacks.\n",
    "    - Find a better way to print the data, key first, then other elements in viewable form.\n",
    "\n",
    "Use the code below to help guide your adventure"
   ]
  },
  {
   "cell_type": "code",
   "execution_count": 1,
   "metadata": {},
   "outputs": [
    {
     "name": "stdout",
     "output_type": "stream",
     "text": [
      "Original\n",
      "[{'name': 'Risa', 'age': 18, 'city': 'New York'}, {'name': 'John', 'age': 63, 'city': 'Eugene'}, {'name': 'Shekar', 'age': 18, 'city': 'San Francisco'}, {'name': 'Ryan', 'age': 21, 'city': 'Los Angeles'}]\n",
      "name\n",
      "[{'name': 'John', 'age': 63, 'city': 'Eugene'}, {'name': 'Risa', 'age': 18, 'city': 'New York'}, {'name': 'Ryan', 'age': 21, 'city': 'Los Angeles'}, {'name': 'Shekar', 'age': 18, 'city': 'San Francisco'}]\n",
      "age\n",
      "[{'name': 'Risa', 'age': 18, 'city': 'New York'}, {'name': 'Shekar', 'age': 18, 'city': 'San Francisco'}, {'name': 'Ryan', 'age': 21, 'city': 'Los Angeles'}, {'name': 'John', 'age': 63, 'city': 'Eugene'}]\n",
      "city\n",
      "[{'name': 'John', 'age': 63, 'city': 'Eugene'}, {'name': 'Ryan', 'age': 21, 'city': 'Los Angeles'}, {'name': 'Risa', 'age': 18, 'city': 'New York'}, {'name': 'Shekar', 'age': 18, 'city': 'San Francisco'}]\n"
     ]
    }
   ],
   "source": [
    "\"\"\"\n",
    "* Creator: Nighthawk Coding Society\n",
    "Bubble Sort of a List with optimizations\n",
    "\"\"\"\n",
    "\n",
    "# bubble sorts a list of dictionaries, base off of provided key\n",
    "def bubbleSort(list, key):\n",
    "    n = len(list) - 1  # list are indexed 0 to n-1, len is n\n",
    "    \n",
    "    # Traverse through list with i index\n",
    "    for i in range(n):\n",
    "        swapped = False  # optimize code, so it exits if now swaps on inner loop\n",
    "\n",
    "        # Inner traversal using j index\n",
    "        for j in range(n-i):  # n-i as positions on right are in order in bubble\n",
    " \n",
    "            # Swap if the element KeyN is greater KeyN1\n",
    "            keyN = list[j].get(key)\n",
    "            keyN1 = list[j+1].get(key)\n",
    "            if keyN > keyN1:\n",
    "                swapped = True\n",
    "                list[j], list[j + 1] = list[j + 1], list[j]  # single line swap\n",
    "         \n",
    "        if not swapped:  # if no swaps on inner pass, list is sorted\n",
    "            return  # exit function\n",
    "    \n",
    "\n",
    "if __name__ == \"__main__\":\n",
    "    # list/dictionary sample\n",
    "    list_of_people = [\n",
    "    {\"name\": \"Risa\", \"age\": 18, \"city\": \"New York\"},\n",
    "    {\"name\": \"John\", \"age\": 63, \"city\": \"Eugene\"},\n",
    "    {\"name\": \"Shekar\", \"age\": 18, \"city\": \"San Francisco\"},\n",
    "    {\"name\": \"Ryan\", \"age\": 21, \"city\": \"Los Angeles\"}\n",
    "    ]\n",
    "    \n",
    "    # assuming uniform keys, pick 1st row as source of keys\n",
    "    key_row = list_of_people[0]\n",
    "\n",
    "    # print list as defined\n",
    "    print(\"Original\")\n",
    "    print(list_of_people)\n",
    "    \n",
    "    for key in key_row:  # finds each key in the row\n",
    "        print(key)\n",
    "        bubbleSort(list_of_people, key)  # sort list of people\n",
    "        print(list_of_people)"
   ]
  },
  {
   "cell_type": "code",
   "execution_count": 4,
   "metadata": {},
   "outputs": [
    {
     "name": "stdout",
     "output_type": "stream",
     "text": [
      "[{'name': 'Apple', 'rating': 7, 'number': 3}, {'name': 'Blueberries', 'rating': 8, 'number': 5}, {'name': 'Oranges', 'rating': 8, 'number': 7}, {'name': 'Loquats', 'rating': 10, 'number': 50}]\n",
      "[{'name': 'Apple', 'rating': 7, 'number': 3}, {'name': 'Blueberries', 'rating': 8, 'number': 5}, {'name': 'Oranges', 'rating': 8, 'number': 7}, {'name': 'Loquats', 'rating': 10, 'number': 50}]\n"
     ]
    }
   ],
   "source": [
    "# Creating my own list & using merge sort \n",
    "\n",
    "def mergeSort(arr, sortkey):\n",
    "    if len(arr) > 1: # makes sure list isn't alr sorted\n",
    "        left_arr = arr[:len(arr)//2] #starts at beginning and goes to mid\n",
    "        right_arr = arr[len(arr)//2:] #starts at middle and goes to end\n",
    "        \n",
    "        # recursion for merge sort\n",
    "        mergeSort(left_arr, sortkey)\n",
    "        mergeSort(right_arr, sortkey)\n",
    "        \n",
    "        # merge step\n",
    "        i = 0 # keep track of leftmost element in left arr\n",
    "        j = 0 # keep track of leftmost element in right arr\n",
    "        k = 0 # merged array index\n",
    "        \n",
    "        while i < len(left_arr) and j < len(right_arr): # keep going until one array is at the end of the index\n",
    "            if compareArrItem(left_arr[i], right_arr[j], sortkey):\n",
    "                arr[k] = left_arr[i]\n",
    "                i += 1\n",
    "            else:\n",
    "                arr[k] = right_arr[j]\n",
    "                j += 1\n",
    "            k += 1 # add 1 to k each time so that next item is added to next index of arr\n",
    "        \n",
    "        #checking for leftovers\n",
    "        while i < len(left_arr): \n",
    "            arr[k] = left_arr[i]\n",
    "            i += 1\n",
    "            k += 1\n",
    "        while j < len(right_arr):\n",
    "            arr[k] = right_arr[j]\n",
    "            j += 1\n",
    "            k += 1\n",
    "\n",
    "def compareArrItem(item1, item2, sortkey): #return true if item1 is less than item2\n",
    "    return item1[sortkey] < item2[sortkey]\n",
    "    \n",
    "# list of fruit names, my rating, and how many I ate this week\n",
    "fruit_rating = [\n",
    "    {\"name\": \"Oranges\", \"rating\": 8, \"number\": 7},\n",
    "    {\"name\": \"Apple\", \"rating\": 7, \"number\": 3},\n",
    "    {\"name\": \"Loquats\", \"rating\": 10, \"number\": 50},\n",
    "    {\"name\": \"Blueberries\", \"rating\": 8, \"number\": 5}\n",
    "    ]\n",
    "\n",
    "mergeSort(fruit_rating, 'rating')\n",
    "print(fruit_rating)\n",
    "mergeSort(fruit_rating, 'number')\n",
    "print(fruit_rating)\n",
    "        "
   ]
  },
  {
   "cell_type": "code",
   "execution_count": 5,
   "metadata": {},
   "outputs": [
    {
     "name": "stdout",
     "output_type": "stream",
     "text": [
      "[{'name': 'Apple', 'rating': 7, 'number': 3}, {'name': 'Blueberries', 'rating': 8, 'number': 5}, {'name': 'Oranges', 'rating': 8, 'number': 7}, {'name': 'Loquats', 'rating': 10, 'number': 50}]\n",
      "[{'name': 'Apple', 'rating': 7, 'number': 3}, {'name': 'Blueberries', 'rating': 8, 'number': 5}, {'name': 'Oranges', 'rating': 8, 'number': 7}, {'name': 'Loquats', 'rating': 10, 'number': 50}]\n"
     ]
    }
   ],
   "source": [
    "# Test list with bubble sort \n",
    "\n",
    "bubbleSort(fruit_rating, 'rating')\n",
    "print(fruit_rating)\n",
    "bubbleSort(fruit_rating, 'number')\n",
    "print(fruit_rating)"
   ]
  },
  {
   "cell_type": "code",
   "execution_count": 6,
   "metadata": {},
   "outputs": [
    {
     "name": "stdout",
     "output_type": "stream",
     "text": [
      "[{'name': 'Shekar', 'age': 18, 'city': 'San Francisco'}, {'name': 'Risa', 'age': 18, 'city': 'New York'}, {'name': 'Ryan', 'age': 21, 'city': 'Los Angeles'}, {'name': 'John', 'age': 63, 'city': 'Eugene'}]\n"
     ]
    }
   ],
   "source": [
    "# Test given list with my sort \n",
    "\n",
    "mergeSort(list_of_people, 'age')\n",
    "print(list_of_people)"
   ]
  },
  {
   "attachments": {},
   "cell_type": "markdown",
   "metadata": {},
   "source": [
    "<b>Research analysis on sorting: comparisons, swaps, time. Build this into your hacks. </b>\n",
    "\n",
    "Bubble Sort:\n",
    "\n",
    "Comparisons: Bubble Sort makes a maximum of n*(n-1)/2 comparisons in the worst case, where n is the number of elements.\n",
    "Swaps: Bubble Sort makes a maximum of n*(n-1)/2 swaps in the worst case.\n",
    "Time Complexity: Bubble Sort has an average and worst-case time complexity of O(n^2).\n",
    "\n",
    "Insertion Sort:\n",
    "\n",
    "Comparisons: Insertion Sort makes a maximum of n*(n-1)/2 comparisons in the worst case.\n",
    "Swaps: Insertion Sort makes a maximum of n*(n-1)/2 swaps in the worst case.\n",
    "Time Complexity: Insertion Sort has an average and worst-case time complexity of O(n^2). However, it performs well on partially sorted or small lists.\n",
    "\n",
    "Selection Sort:\n",
    "\n",
    "Comparisons: Selection Sort makes a maximum of n*(n-1)/2 comparisons in the worst case.\n",
    "Swaps: Selection Sort makes a maximum of n swaps in the worst case.\n",
    "Time Complexity: Selection Sort has an average and worst-case time complexity of O(n^2).\n",
    "\n",
    "Merge Sort:\n",
    "\n",
    "Comparisons: Merge Sort makes a maximum of n*log(n) comparisons in the worst case.\n",
    "Swaps: Merge Sort requires additional memory for merging and does not involve element swaps.\n",
    "Time Complexity: Merge Sort has an average and worst-case time complexity of O(n log n)."
   ]
  },
  {
   "cell_type": "code",
   "execution_count": 9,
   "metadata": {},
   "outputs": [
    {
     "name": "stdout",
     "output_type": "stream",
     "text": [
      "#1 rating\n",
      "\tname: Apple\n",
      "\trating: 7\n",
      "\tnumber: 3\n",
      "\n",
      "#2 rating\n",
      "\tname: Oranges\n",
      "\trating: 8\n",
      "\tnumber: 7\n",
      "\n",
      "#3 rating\n",
      "\tname: Blueberries\n",
      "\trating: 8\n",
      "\tnumber: 5\n",
      "\n",
      "#4 rating\n",
      "\tname: Loquats\n",
      "\trating: 10\n",
      "\tnumber: 50\n",
      "\n"
     ]
    }
   ],
   "source": [
    "# Find a better way to print the data, key first, then other elements in viewable form.\n",
    "\n",
    "mergeSort(fruit_rating, 'rating')\n",
    "\n",
    "def mergePrint(list, key):\n",
    "   for i, user in enumerate(list):\n",
    "        print(\"#\" + str(i + 1) + \" \" + key)\n",
    "        for k, v in user.items():\n",
    "            print(\"\\t\" + str(k) + \":\", str(v))\n",
    "        print(\"\")\n",
    "\n",
    "mergePrint(fruit_rating, 'rating')"
   ]
  }
 ],
 "metadata": {
  "kernelspec": {
   "display_name": "base",
   "language": "python",
   "name": "python3"
  },
  "language_info": {
   "codemirror_mode": {
    "name": "ipython",
    "version": 3
   },
   "file_extension": ".py",
   "mimetype": "text/x-python",
   "name": "python",
   "nbconvert_exporter": "python",
   "pygments_lexer": "ipython3",
   "version": "3.9.12"
  },
  "orig_nbformat": 4
 },
 "nbformat": 4,
 "nbformat_minor": 2
}
