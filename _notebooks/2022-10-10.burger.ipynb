{
 "cells": [
  {
   "cell_type": "markdown",
   "metadata": {},
   "source": [
    "# Burger Menu \n",
    "- toc: true \n",
    "- badges: true\n",
    "- comments: true\n",
    "- categories: [jupyter, week7]"
   ]
  },
  {
   "cell_type": "code",
   "execution_count": 1,
   "metadata": {},
   "outputs": [
    {
     "name": "stdout",
     "output_type": "stream",
     "text": [
      "Menu\n",
      "burger  $3.99\n",
      "fries  $1.99\n",
      "drink  $0.99\n",
      "$ 3.99\n"
     ]
    }
   ],
   "source": [
    "menu =  {\"burger\": 3.99,\n",
    "         \"fries\": 1.99,\n",
    "         \"drink\": 0.99}\n",
    "total = 0\n",
    "\n",
    "#shows the user the menu and prompts them to select an item\n",
    "print(\"Menu\")\n",
    "for k,v in menu.items():\n",
    "    print(k + \"  $\" + str(v)) #why does v have \"str\" in front of it?\n",
    "\n",
    "#ideally the code should prompt the user multiple times\n",
    "item = input(\"Please select an item from the menu\").lower()\n",
    "if item == \"burger\":\n",
    "    total +=3.99\n",
    "elif item == \"fries\":\n",
    "    total +=1.99\n",
    "elif item == \"drink\":\n",
    "    total +=0.99\n",
    "else:\n",
    "    print(\"You mispelled that. Please reinput your desired food\")\n",
    "\n",
    "#code should add the price of the menu items selected by the user \n",
    "print(f\"$ {total}\")"
   ]
  }
 ],
 "metadata": {
  "kernelspec": {
   "display_name": "Python 3.8.10 64-bit",
   "language": "python",
   "name": "python3"
  },
  "language_info": {
   "codemirror_mode": {
    "name": "ipython",
    "version": 3
   },
   "file_extension": ".py",
   "mimetype": "text/x-python",
   "name": "python",
   "nbconvert_exporter": "python",
   "pygments_lexer": "ipython3",
   "version": "3.8.10"
  },
  "orig_nbformat": 4,
  "vscode": {
   "interpreter": {
    "hash": "916dbcbb3f70747c44a77c7bcd40155683ae19c65e1c03b4aa3499c5328201f1"
   }
  }
 },
 "nbformat": 4,
 "nbformat_minor": 2
}
